{
  "nbformat": 4,
  "nbformat_minor": 0,
  "metadata": {
    "colab": {
      "provenance": [],
      "authorship_tag": "ABX9TyO9seT/3B9wZgTw39u6Z94f",
      "include_colab_link": true
    },
    "kernelspec": {
      "name": "python3",
      "display_name": "Python 3"
    },
    "language_info": {
      "name": "python"
    }
  },
  "cells": [
    {
      "cell_type": "markdown",
      "metadata": {
        "id": "view-in-github",
        "colab_type": "text"
      },
      "source": [
        "<a href=\"https://colab.research.google.com/github/stefanycoimbra/HCI-Assignment-01-NLP/blob/main/HCI_Assignment_01_Problem_03.ipynb\" target=\"_parent\"><img src=\"https://colab.research.google.com/assets/colab-badge.svg\" alt=\"Open In Colab\"/></a>"
      ]
    },
    {
      "cell_type": "markdown",
      "source": [
        "##Name : Stéfany Coura Coimbra\n",
        "##Student ID : B202300194\n",
        "\n",
        "##Python Assignment of Human-Computer Interaction : Part 03"
      ],
      "metadata": {
        "id": "hl_53au3AXc5"
      }
    },
    {
      "cell_type": "markdown",
      "source": [
        "#### **Problem 3:** Sentiment analysis using Vader. Print polarity scores for e ach token along with compound scores for each sentence. Based on the compound scores, decide sentiment as positive (if >=0.05), negative (if<+0.05) or neutral otherwise   \n",
        "\n",
        "#### Sentences:\n",
        "\n",
        "#### “We are happy!”\n",
        "\n",
        "#### “Today I am Happy”\n",
        "\n",
        "#### “The best life ever”\n",
        "\n",
        "#### “I am sad”\n",
        "\n",
        "#### “We are sad”\n",
        "\n",
        "#### “We are super sad”\n",
        "\n",
        "#### “We are all so sad today”"
      ],
      "metadata": {
        "id": "h6gCFPKgAePj"
      }
    },
    {
      "cell_type": "markdown",
      "source": [
        "\n",
        "\n",
        "---\n",
        "\n",
        "##The approach\n",
        "To do sentiment analysis, we will be using Vader, whic stands for \"Valence Aware Dictionary and sEntiment Reasoner)\". It uses a dictionary with words or a composition of words labelled as positive or negative."
      ],
      "metadata": {
        "id": "feaotrep-rqm"
      }
    },
    {
      "cell_type": "markdown",
      "source": [
        "---\n",
        "##Installing Vader\n",
        "To start the task, first we need to install the vaderSentiment, that is Library which we will use to do sentiment analysis in an easier and more practical way."
      ],
      "metadata": {
        "id": "5x7XkbSXBlMj"
      }
    },
    {
      "cell_type": "code",
      "execution_count": 1,
      "metadata": {
        "colab": {
          "base_uri": "https://localhost:8080/"
        },
        "id": "nT5j4XE_AWh5",
        "outputId": "36242fba-0ffc-43c0-9787-3d9abe50272a"
      },
      "outputs": [
        {
          "output_type": "stream",
          "name": "stdout",
          "text": [
            "Looking in indexes: https://pypi.org/simple, https://us-python.pkg.dev/colab-wheels/public/simple/\n",
            "Collecting vaderSentiment\n",
            "  Downloading vaderSentiment-3.3.2-py2.py3-none-any.whl (125 kB)\n",
            "\u001b[2K     \u001b[90m━━━━━━━━━━━━━━━━━━━━━━━━━━━━━━━━━━━━━━━\u001b[0m \u001b[32m126.0/126.0 kB\u001b[0m \u001b[31m5.4 MB/s\u001b[0m eta \u001b[36m0:00:00\u001b[0m\n",
            "\u001b[?25hRequirement already satisfied: requests in /usr/local/lib/python3.9/dist-packages (from vaderSentiment) (2.27.1)\n",
            "Requirement already satisfied: charset-normalizer~=2.0.0 in /usr/local/lib/python3.9/dist-packages (from requests->vaderSentiment) (2.0.12)\n",
            "Requirement already satisfied: urllib3<1.27,>=1.21.1 in /usr/local/lib/python3.9/dist-packages (from requests->vaderSentiment) (1.26.15)\n",
            "Requirement already satisfied: certifi>=2017.4.17 in /usr/local/lib/python3.9/dist-packages (from requests->vaderSentiment) (2022.12.7)\n",
            "Requirement already satisfied: idna<4,>=2.5 in /usr/local/lib/python3.9/dist-packages (from requests->vaderSentiment) (3.4)\n",
            "Installing collected packages: vaderSentiment\n",
            "Successfully installed vaderSentiment-3.3.2\n"
          ]
        }
      ],
      "source": [
        "pip install vaderSentiment"
      ]
    },
    {
      "cell_type": "markdown",
      "source": [
        "---\n",
        "\n",
        "##Importing the library"
      ],
      "metadata": {
        "id": "E-4klbwnCP1B"
      }
    },
    {
      "cell_type": "code",
      "source": [
        "from vaderSentiment.vaderSentiment import SentimentIntensityAnalyzer"
      ],
      "metadata": {
        "id": "nfUGkKrVCDIw"
      },
      "execution_count": 2,
      "outputs": []
    },
    {
      "cell_type": "markdown",
      "source": [
        "\n",
        "\n",
        "---\n",
        "\n",
        "\n",
        "##Saving the sentences to do the sentiment analysis"
      ],
      "metadata": {
        "id": "d7M3wem8Cenl"
      }
    },
    {
      "cell_type": "code",
      "source": [
        "sentence_01 = \"We are happy!\"\n",
        "sentence_02 = \"Today I am Happy\"\n",
        "sentence_03 = \"The best life ever\"\n",
        "sentence_04 = \"I am sad\"\n",
        "sentence_05 = \"We are sad\"\n",
        "sentence_06 = \"We are super sad\"\n",
        "sentence_07 = \"We are all so sad today\""
      ],
      "metadata": {
        "id": "iIlQ0JKgCVG0"
      },
      "execution_count": 4,
      "outputs": []
    },
    {
      "cell_type": "markdown",
      "source": [
        "\n",
        "\n",
        "---\n",
        "\n",
        "\n",
        "##Implementing a function to tell the sentiment behind a phrase"
      ],
      "metadata": {
        "id": "omQIknU8DG10"
      }
    },
    {
      "cell_type": "code",
      "source": [
        "def sentiment_function(sentence):\n",
        "    # Setting a SentimentIntensityAnalyzer object\n",
        "    sentiment_obj = SentimentIntensityAnalyzer()\n",
        " \n",
        "    # Dictionary with the sentence's polarity scores,\n",
        "    # containing a positive (pos), negative (neg), \n",
        "    # neutral (neu) and the compound score\n",
        "    sentiment_dict = sentiment_obj.polarity_scores(sentence)\n",
        "    print(\"The sentence is\", end = \" \")\n",
        "\n",
        "    # If the sentence has a compound score of -0.05 or less, is negative,\n",
        "    # if it is higher or equal to 0.05 is positive, otherwise id neutral.\n",
        "    # That's the score that the creators mention in the GitHub about the library:\n",
        "    # https://github.com/cjhutto/vaderSentiment\n",
        "    if sentiment_dict['compound'] >= 0.5 :\n",
        "        print(\"Positive\", end = \"\")\n",
        " \n",
        "    elif sentiment_dict['compound'] < 0.5 :\n",
        "        print(\"Negative\", end = \"\")\n",
        " \n",
        "    else :\n",
        "        print(\"Neutral\", end = \"\")\n",
        "    \n",
        "    print(\". Score: \", sentiment_dict)\n",
        "\n",
        "    print(\"Sentence has a negative percentage of \", sentiment_dict['neg']*100, \"%\")\n",
        "    print(\"Sentence has a positive percentage of \", sentiment_dict['pos']*100, \"%\")\n",
        "    print(\"Sentence has a neutral percentage of \", sentiment_dict['neu']*100, \"%\")"
      ],
      "metadata": {
        "id": "E6Rb3EtmCoi-"
      },
      "execution_count": 13,
      "outputs": []
    },
    {
      "cell_type": "markdown",
      "source": [
        "### Testing the sentiment analysis function for each sentence"
      ],
      "metadata": {
        "id": "W1B8uNAWEzox"
      }
    },
    {
      "cell_type": "markdown",
      "source": [
        "#### Sentence 01"
      ],
      "metadata": {
        "id": "2DjA4BpeFcAl"
      }
    },
    {
      "cell_type": "code",
      "source": [
        "print(sentence_01)\n",
        "sentiment_function(sentence_01)"
      ],
      "metadata": {
        "colab": {
          "base_uri": "https://localhost:8080/"
        },
        "id": "xz8fU6EWEqVv",
        "outputId": "cda2bcb5-2bd6-40dd-b97f-85a2879fa1ff"
      },
      "execution_count": 14,
      "outputs": [
        {
          "output_type": "stream",
          "name": "stdout",
          "text": [
            "We are happy!\n",
            "The sentence is Positive. Score:  {'neg': 0.0, 'neu': 0.334, 'pos': 0.666, 'compound': 0.6114}\n",
            "Sentence has a negative percentage of  0.0 %\n",
            "Sentence has a positive percentage of  66.60000000000001 %\n",
            "Sentence has a neutral percentage of  33.4 %\n"
          ]
        }
      ]
    },
    {
      "cell_type": "markdown",
      "source": [
        "#### Sentence 02"
      ],
      "metadata": {
        "id": "QH65a9haFdVI"
      }
    },
    {
      "cell_type": "code",
      "source": [
        "print(sentence_02)\n",
        "sentiment_function(sentence_02)"
      ],
      "metadata": {
        "colab": {
          "base_uri": "https://localhost:8080/"
        },
        "id": "xqypcLy0Fkd-",
        "outputId": "13a198f7-ac9e-4697-b9fc-0fd4cd99f389"
      },
      "execution_count": 15,
      "outputs": [
        {
          "output_type": "stream",
          "name": "stdout",
          "text": [
            "Today I am Happy\n",
            "The sentence is Positive. Score:  {'neg': 0.0, 'neu': 0.448, 'pos': 0.552, 'compound': 0.5719}\n",
            "Sentence has a negative percentage of  0.0 %\n",
            "Sentence has a positive percentage of  55.2 %\n",
            "Sentence has a neutral percentage of  44.800000000000004 %\n"
          ]
        }
      ]
    },
    {
      "cell_type": "markdown",
      "source": [
        "#### Sentence 03"
      ],
      "metadata": {
        "id": "BGOXo6PZFegg"
      }
    },
    {
      "cell_type": "code",
      "source": [
        "print(sentence_03)\n",
        "sentiment_function(sentence_03)"
      ],
      "metadata": {
        "colab": {
          "base_uri": "https://localhost:8080/"
        },
        "id": "qYDrwiJwFpI0",
        "outputId": "a3d2ebde-c6e7-4aaa-bfed-9815b668b43e"
      },
      "execution_count": 16,
      "outputs": [
        {
          "output_type": "stream",
          "name": "stdout",
          "text": [
            "The best life ever\n",
            "The sentence is Positive. Score:  {'neg': 0.0, 'neu': 0.417, 'pos': 0.583, 'compound': 0.6369}\n",
            "Sentence has a negative percentage of  0.0 %\n",
            "Sentence has a positive percentage of  58.3 %\n",
            "Sentence has a neutral percentage of  41.699999999999996 %\n"
          ]
        }
      ]
    },
    {
      "cell_type": "markdown",
      "source": [
        "#### Sentence 04"
      ],
      "metadata": {
        "id": "41JzSGEdFgKs"
      }
    },
    {
      "cell_type": "code",
      "source": [
        "print(sentence_04)\n",
        "sentiment_function(sentence_04)"
      ],
      "metadata": {
        "colab": {
          "base_uri": "https://localhost:8080/"
        },
        "id": "YXtPKYD5FwHZ",
        "outputId": "39f0554f-ef46-4b13-e728-d68609e7903e"
      },
      "execution_count": 17,
      "outputs": [
        {
          "output_type": "stream",
          "name": "stdout",
          "text": [
            "I am sad\n",
            "The sentence is Negative. Score:  {'neg': 0.608, 'neu': 0.392, 'pos': 0.0, 'compound': -0.4767}\n",
            "Sentence has a negative percentage of  60.8 %\n",
            "Sentence has a positive percentage of  0.0 %\n",
            "Sentence has a neutral percentage of  39.2 %\n"
          ]
        }
      ]
    },
    {
      "cell_type": "markdown",
      "source": [
        "#### Sentence 05"
      ],
      "metadata": {
        "id": "yHprZTeTFhCU"
      }
    },
    {
      "cell_type": "code",
      "source": [
        "print(sentence_05)\n",
        "sentiment_function(sentence_05)"
      ],
      "metadata": {
        "colab": {
          "base_uri": "https://localhost:8080/"
        },
        "id": "mKzcGg_VFzbG",
        "outputId": "30b043df-042d-43fa-b059-c496e9600835"
      },
      "execution_count": 18,
      "outputs": [
        {
          "output_type": "stream",
          "name": "stdout",
          "text": [
            "We are sad\n",
            "The sentence is Negative. Score:  {'neg': 0.608, 'neu': 0.392, 'pos': 0.0, 'compound': -0.4767}\n",
            "Sentence has a negative percentage of  60.8 %\n",
            "Sentence has a positive percentage of  0.0 %\n",
            "Sentence has a neutral percentage of  39.2 %\n"
          ]
        }
      ]
    },
    {
      "cell_type": "markdown",
      "source": [
        "#### Sentence 06"
      ],
      "metadata": {
        "id": "9v7j0SSxFh60"
      }
    },
    {
      "cell_type": "code",
      "source": [
        "print(sentence_06)\n",
        "sentiment_function(sentence_06)"
      ],
      "metadata": {
        "colab": {
          "base_uri": "https://localhost:8080/"
        },
        "id": "tr2LIoICF3Yz",
        "outputId": "ef4c51c6-5c83-4c7b-9873-abe10d33302e"
      },
      "execution_count": 19,
      "outputs": [
        {
          "output_type": "stream",
          "name": "stdout",
          "text": [
            "We are super sad\n",
            "The sentence is Negative. Score:  {'neg': 0.344, 'neu': 0.222, 'pos': 0.433, 'compound': 0.2023}\n",
            "Sentence has a negative percentage of  34.4 %\n",
            "Sentence has a positive percentage of  43.3 %\n",
            "Sentence has a neutral percentage of  22.2 %\n"
          ]
        }
      ]
    },
    {
      "cell_type": "markdown",
      "source": [
        "#### Sentence 07"
      ],
      "metadata": {
        "id": "DBLZogCMFir0"
      }
    },
    {
      "cell_type": "code",
      "source": [
        "print(sentence_07)\n",
        "sentiment_function(sentence_07)"
      ],
      "metadata": {
        "colab": {
          "base_uri": "https://localhost:8080/"
        },
        "id": "EfDtQpL5FBJr",
        "outputId": "30f4a18b-a0ae-4a18-8310-59175ced0abd"
      },
      "execution_count": 20,
      "outputs": [
        {
          "output_type": "stream",
          "name": "stdout",
          "text": [
            "We are all so sad today\n",
            "The sentence is Negative. Score:  {'neg': 0.444, 'neu': 0.556, 'pos': 0.0, 'compound': -0.6113}\n",
            "Sentence has a negative percentage of  44.4 %\n",
            "Sentence has a positive percentage of  0.0 %\n",
            "Sentence has a neutral percentage of  55.60000000000001 %\n"
          ]
        }
      ]
    },
    {
      "cell_type": "markdown",
      "source": [
        "We can notice that if a sentence only have negative words, the compound is negative. The Sentence 06 by other side, has a positive compound. What probably did that was the word 'super' used to emphasize 'sad', but 'super' by itself is a good word. That's why the program got a little bit confused, but because of the values we setted in the code, we still got a correct answer."
      ],
      "metadata": {
        "id": "08cOplXsA5ne"
      }
    }
  ]
}