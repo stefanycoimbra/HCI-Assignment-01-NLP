{
  "nbformat": 4,
  "nbformat_minor": 0,
  "metadata": {
    "colab": {
      "provenance": [],
      "authorship_tag": "ABX9TyOjn7HoURIvuEdmfePbq5sY",
      "include_colab_link": true
    },
    "kernelspec": {
      "name": "python3",
      "display_name": "Python 3"
    },
    "language_info": {
      "name": "python"
    }
  },
  "cells": [
    {
      "cell_type": "markdown",
      "metadata": {
        "id": "view-in-github",
        "colab_type": "text"
      },
      "source": [
        "<a href=\"https://colab.research.google.com/github/stefanycoimbra/HCI-Assignment-01-NLP/blob/main/HCI_Assignment_01_Problem_01.ipynb\" target=\"_parent\"><img src=\"https://colab.research.google.com/assets/colab-badge.svg\" alt=\"Open In Colab\"/></a>"
      ]
    },
    {
      "cell_type": "markdown",
      "source": [
        "##Name : Stéfany Coura Coimbra\n",
        "##Student ID : B202300194\n",
        "\n",
        "##Python Assignment of Human-Computer Interaction : Part 01"
      ],
      "metadata": {
        "id": "3jz0ID6_4Xeb"
      }
    },
    {
      "cell_type": "markdown",
      "source": [
        "#### **Problem 1:** Named Entity Recognition showing tokenization, parts of speech tagging followed by named entity recognition for\n",
        "\n",
        "#### text = \"Steve Jobs was an American entrepreneur and business magnate. He was the chairman, chief executive officer (CEO), and a co-founder of Apple Inc., chairman and majority shareholder of Pixar, a member of The Walt Disney Company's board of directors following its acquisition of Pixar, and the founder, chairman, and CEO of NeXT. Jobs is widely recognized as a pioneer of the microcomputer revolution of the 1970s and 1980s, along with Apple co-founder Steve Wozniak. \""
      ],
      "metadata": {
        "id": "9RpKfVy1qOSQ"
      }
    },
    {
      "cell_type": "markdown",
      "source": [
        "\n",
        "\n",
        "---\n",
        "##The approach\n",
        "To address this problem, first we will try to use the NLTK library in\n",
        "Python. That library has a lot of functions that will make the process easier. To extract the Part-Of-Speech from the text, we will use pos_tag from ntlk.tag and to do the Named Entity Recognition, we will use ne_chunk."
      ],
      "metadata": {
        "id": "UBVXRvvWlX0v"
      }
    },
    {
      "cell_type": "markdown",
      "source": [
        "\n",
        "\n",
        "---\n",
        "##Installing NLTK\n",
        "To start the task, first we need to install the NLTK Python Library so we can use the Natural Language Toolkit to do Natural Language Processing.\n",
        "\n"
      ],
      "metadata": {
        "id": "skSqv8Kaqbg7"
      }
    },
    {
      "cell_type": "code",
      "execution_count": 2,
      "metadata": {
        "colab": {
          "base_uri": "https://localhost:8080/"
        },
        "id": "u7SP0HcKqLp9",
        "outputId": "2642c90a-019d-472a-a628-dea6f011605a"
      },
      "outputs": [
        {
          "output_type": "stream",
          "name": "stdout",
          "text": [
            "Looking in indexes: https://pypi.org/simple, https://us-python.pkg.dev/colab-wheels/public/simple/\n",
            "Requirement already satisfied: nltk in /usr/local/lib/python3.9/dist-packages (3.8.1)\n",
            "Requirement already satisfied: regex>=2021.8.3 in /usr/local/lib/python3.9/dist-packages (from nltk) (2022.10.31)\n",
            "Requirement already satisfied: click in /usr/local/lib/python3.9/dist-packages (from nltk) (8.1.3)\n",
            "Requirement already satisfied: joblib in /usr/local/lib/python3.9/dist-packages (from nltk) (1.2.0)\n",
            "Requirement already satisfied: tqdm in /usr/local/lib/python3.9/dist-packages (from nltk) (4.65.0)\n"
          ]
        }
      ],
      "source": [
        "pip install nltk"
      ]
    },
    {
      "cell_type": "markdown",
      "source": [
        "\n",
        "\n",
        "---\n",
        "\n",
        "##Importing the libraries and downloading some corpus related to some functions"
      ],
      "metadata": {
        "id": "WJfLI7L4qNBK"
      }
    },
    {
      "cell_type": "code",
      "source": [
        "import nltk\n",
        "from nltk.tokenize import wordpunct_tokenize\n",
        "from nltk.tag import pos_tag\n",
        "\n",
        "nltk.download('punkt')\n",
        "nltk.download('averaged_perceptron_tagger')\n",
        "nltk.download('maxent_ne_chunker')\n",
        "nltk.download('words')"
      ],
      "metadata": {
        "colab": {
          "base_uri": "https://localhost:8080/"
        },
        "id": "MYIebo_srYJX",
        "outputId": "cc101369-cde0-46a1-8248-f7c0cda766b7"
      },
      "execution_count": 19,
      "outputs": [
        {
          "output_type": "stream",
          "name": "stderr",
          "text": [
            "[nltk_data] Downloading package punkt to /root/nltk_data...\n",
            "[nltk_data]   Package punkt is already up-to-date!\n",
            "[nltk_data] Downloading package averaged_perceptron_tagger to\n",
            "[nltk_data]     /root/nltk_data...\n",
            "[nltk_data]   Package averaged_perceptron_tagger is already up-to-\n",
            "[nltk_data]       date!\n",
            "[nltk_data] Downloading package maxent_ne_chunker to\n",
            "[nltk_data]     /root/nltk_data...\n",
            "[nltk_data]   Package maxent_ne_chunker is already up-to-date!\n",
            "[nltk_data] Downloading package words to /root/nltk_data...\n",
            "[nltk_data]   Unzipping corpora/words.zip.\n"
          ]
        },
        {
          "output_type": "execute_result",
          "data": {
            "text/plain": [
              "True"
            ]
          },
          "metadata": {},
          "execution_count": 19
        }
      ]
    },
    {
      "cell_type": "markdown",
      "source": [
        "##Saving the phrase in a String"
      ],
      "metadata": {
        "id": "cBznZJiZsMMX"
      }
    },
    {
      "cell_type": "code",
      "source": [
        "text = \"Steve Jobs was an American entrepreneur and business magnate. He was the chairman, chief executive officer (CEO), and a co-founder of Apple Inc., chairman and majority shareholder of Pixar, a member of The Walt Disney Company's board of directors following its acquisition of Pixar, and the founder, chairman, and CEO of NeXT. Jobs is widely recognized as a pioneer of the microcomputer revolution of the 1970s and 1980s, along with Apple co-founder Steve Wozniak. \""
      ],
      "metadata": {
        "id": "Cmk9ZTNSrifI"
      },
      "execution_count": 20,
      "outputs": []
    },
    {
      "cell_type": "markdown",
      "source": [
        "##Tokenizing the phrase using word_tokenize from NLTK Library"
      ],
      "metadata": {
        "id": "3mTZDNpjsgyN"
      }
    },
    {
      "cell_type": "code",
      "source": [
        "tokens = nltk.word_tokenize(text)"
      ],
      "metadata": {
        "id": "6MMC3su2sWxI"
      },
      "execution_count": 21,
      "outputs": []
    },
    {
      "cell_type": "code",
      "source": [
        "print(tokens)"
      ],
      "metadata": {
        "colab": {
          "base_uri": "https://localhost:8080/"
        },
        "id": "qA_U7pxCtJAT",
        "outputId": "65ebc10e-25f3-4504-d4bd-ba2fd2588395"
      },
      "execution_count": 22,
      "outputs": [
        {
          "output_type": "stream",
          "name": "stdout",
          "text": [
            "['Steve', 'Jobs', 'was', 'an', 'American', 'entrepreneur', 'and', 'business', 'magnate', '.', 'He', 'was', 'the', 'chairman', ',', 'chief', 'executive', 'officer', '(', 'CEO', ')', ',', 'and', 'a', 'co-founder', 'of', 'Apple', 'Inc.', ',', 'chairman', 'and', 'majority', 'shareholder', 'of', 'Pixar', ',', 'a', 'member', 'of', 'The', 'Walt', 'Disney', 'Company', \"'s\", 'board', 'of', 'directors', 'following', 'its', 'acquisition', 'of', 'Pixar', ',', 'and', 'the', 'founder', ',', 'chairman', ',', 'and', 'CEO', 'of', 'NeXT', '.', 'Jobs', 'is', 'widely', 'recognized', 'as', 'a', 'pioneer', 'of', 'the', 'microcomputer', 'revolution', 'of', 'the', '1970s', 'and', '1980s', ',', 'along', 'with', 'Apple', 'co-founder', 'Steve', 'Wozniak', '.']\n"
          ]
        }
      ]
    },
    {
      "cell_type": "markdown",
      "source": [
        "###Applying Part-of-Speech Tagging using pos_tag with no parameters"
      ],
      "metadata": {
        "id": "EYCf4vdVy2W5"
      }
    },
    {
      "cell_type": "code",
      "source": [
        "pos = nltk.pos_tag(tokens)"
      ],
      "metadata": {
        "id": "AachbHvNuZmw"
      },
      "execution_count": 82,
      "outputs": []
    },
    {
      "cell_type": "code",
      "source": [
        "print(pos)"
      ],
      "metadata": {
        "colab": {
          "base_uri": "https://localhost:8080/"
        },
        "id": "WmIq867qzCWX",
        "outputId": "8e8d8b8d-2d64-4312-c1ba-5fe134c02b4a"
      },
      "execution_count": 83,
      "outputs": [
        {
          "output_type": "stream",
          "name": "stdout",
          "text": [
            "[('Steve', 'NNP'), ('Jobs', 'NNP'), ('was', 'VBD'), ('an', 'DT'), ('American', 'JJ'), ('entrepreneur', 'NN'), ('and', 'CC'), ('business', 'NN'), ('magnate', 'NN'), ('.', '.'), ('He', 'PRP'), ('was', 'VBD'), ('the', 'DT'), ('chairman', 'NN'), (',', ','), ('chief', 'JJ'), ('executive', 'NN'), ('officer', 'NN'), ('(', '('), ('CEO', 'NNP'), (')', ')'), (',', ','), ('and', 'CC'), ('a', 'DT'), ('co-founder', 'NN'), ('of', 'IN'), ('Apple', 'NNP'), ('Inc.', 'NNP'), (',', ','), ('chairman', 'NN'), ('and', 'CC'), ('majority', 'NN'), ('shareholder', 'NN'), ('of', 'IN'), ('Pixar', 'NNP'), (',', ','), ('a', 'DT'), ('member', 'NN'), ('of', 'IN'), ('The', 'DT'), ('Walt', 'NNP'), ('Disney', 'NNP'), ('Company', 'NNP'), (\"'s\", 'POS'), ('board', 'NN'), ('of', 'IN'), ('directors', 'NNS'), ('following', 'VBG'), ('its', 'PRP$'), ('acquisition', 'NN'), ('of', 'IN'), ('Pixar', 'NNP'), (',', ','), ('and', 'CC'), ('the', 'DT'), ('founder', 'NN'), (',', ','), ('chairman', 'NN'), (',', ','), ('and', 'CC'), ('CEO', 'NNP'), ('of', 'IN'), ('NeXT', 'NNP'), ('.', '.'), ('Jobs', 'NNP'), ('is', 'VBZ'), ('widely', 'RB'), ('recognized', 'VBN'), ('as', 'IN'), ('a', 'DT'), ('pioneer', 'NN'), ('of', 'IN'), ('the', 'DT'), ('microcomputer', 'NN'), ('revolution', 'NN'), ('of', 'IN'), ('the', 'DT'), ('1970s', 'CD'), ('and', 'CC'), ('1980s', 'CD'), (',', ','), ('along', 'IN'), ('with', 'IN'), ('Apple', 'NNP'), ('co-founder', 'NN'), ('Steve', 'NNP'), ('Wozniak', 'NNP'), ('.', '.')]\n"
          ]
        }
      ]
    },
    {
      "cell_type": "markdown",
      "source": [
        "###Using the parameters of pos_tag with tagset set as 'universal'"
      ],
      "metadata": {
        "id": "HQXGYIcQuxgb"
      }
    },
    {
      "cell_type": "code",
      "source": [
        "pos_universal = nltk.pos_tag(tokens, tagset='universal', lang='eng')"
      ],
      "metadata": {
        "id": "ENEMSzh7pcmC"
      },
      "execution_count": 84,
      "outputs": []
    },
    {
      "cell_type": "code",
      "source": [
        "print(pos_universal)"
      ],
      "metadata": {
        "colab": {
          "base_uri": "https://localhost:8080/"
        },
        "id": "bJYV8xd6pySv",
        "outputId": "72ed62fc-2ee1-4709-866c-f5d1f8180ebd"
      },
      "execution_count": 85,
      "outputs": [
        {
          "output_type": "stream",
          "name": "stdout",
          "text": [
            "[('Steve', 'NOUN'), ('Jobs', 'NOUN'), ('was', 'VERB'), ('an', 'DET'), ('American', 'ADJ'), ('entrepreneur', 'NOUN'), ('and', 'CONJ'), ('business', 'NOUN'), ('magnate', 'NOUN'), ('.', '.'), ('He', 'PRON'), ('was', 'VERB'), ('the', 'DET'), ('chairman', 'NOUN'), (',', '.'), ('chief', 'ADJ'), ('executive', 'NOUN'), ('officer', 'NOUN'), ('(', '.'), ('CEO', 'NOUN'), (')', '.'), (',', '.'), ('and', 'CONJ'), ('a', 'DET'), ('co-founder', 'NOUN'), ('of', 'ADP'), ('Apple', 'NOUN'), ('Inc.', 'NOUN'), (',', '.'), ('chairman', 'NOUN'), ('and', 'CONJ'), ('majority', 'NOUN'), ('shareholder', 'NOUN'), ('of', 'ADP'), ('Pixar', 'NOUN'), (',', '.'), ('a', 'DET'), ('member', 'NOUN'), ('of', 'ADP'), ('The', 'DET'), ('Walt', 'NOUN'), ('Disney', 'NOUN'), ('Company', 'NOUN'), (\"'s\", 'PRT'), ('board', 'NOUN'), ('of', 'ADP'), ('directors', 'NOUN'), ('following', 'VERB'), ('its', 'PRON'), ('acquisition', 'NOUN'), ('of', 'ADP'), ('Pixar', 'NOUN'), (',', '.'), ('and', 'CONJ'), ('the', 'DET'), ('founder', 'NOUN'), (',', '.'), ('chairman', 'NOUN'), (',', '.'), ('and', 'CONJ'), ('CEO', 'NOUN'), ('of', 'ADP'), ('NeXT', 'NOUN'), ('.', '.'), ('Jobs', 'NOUN'), ('is', 'VERB'), ('widely', 'ADV'), ('recognized', 'VERB'), ('as', 'ADP'), ('a', 'DET'), ('pioneer', 'NOUN'), ('of', 'ADP'), ('the', 'DET'), ('microcomputer', 'NOUN'), ('revolution', 'NOUN'), ('of', 'ADP'), ('the', 'DET'), ('1970s', 'NUM'), ('and', 'CONJ'), ('1980s', 'NUM'), (',', '.'), ('along', 'ADP'), ('with', 'ADP'), ('Apple', 'NOUN'), ('co-founder', 'NOUN'), ('Steve', 'NOUN'), ('Wozniak', 'NOUN'), ('.', '.')]\n"
          ]
        }
      ]
    },
    {
      "cell_type": "markdown",
      "source": [
        "###Named Entity Recognition using ne_chunk"
      ],
      "metadata": {
        "id": "lfDvgsRsvDB4"
      }
    },
    {
      "cell_type": "code",
      "source": [
        "NER = nltk.ne_chunk(pos, binary=False)"
      ],
      "metadata": {
        "id": "VTPlkX6gfw7i"
      },
      "execution_count": 86,
      "outputs": []
    },
    {
      "cell_type": "markdown",
      "source": [
        "When we print NER, we can see that It got wrong some words, for example, It recognized Appli Inc. as a company, but couldn't recognize Apple as an organization and instead of that, had put a label 'Person' on It, which we know It's not right. Another thing is that for Steve Jobs, It separated Steve and Jobs as two different people, but we know Ssteva Jobs is one person only. "
      ],
      "metadata": {
        "id": "qURC7_HQyvzP"
      }
    },
    {
      "cell_type": "code",
      "source": [
        "print(NER)"
      ],
      "metadata": {
        "colab": {
          "base_uri": "https://localhost:8080/"
        },
        "id": "znNvN9YQgvTK",
        "outputId": "f50e1684-e704-4a66-9e58-741e5960b320"
      },
      "execution_count": 87,
      "outputs": [
        {
          "output_type": "stream",
          "name": "stdout",
          "text": [
            "(S\n",
            "  (PERSON Steve/NNP)\n",
            "  (PERSON Jobs/NNP)\n",
            "  was/VBD\n",
            "  an/DT\n",
            "  (GPE American/JJ)\n",
            "  entrepreneur/NN\n",
            "  and/CC\n",
            "  business/NN\n",
            "  magnate/NN\n",
            "  ./.\n",
            "  He/PRP\n",
            "  was/VBD\n",
            "  the/DT\n",
            "  chairman/NN\n",
            "  ,/,\n",
            "  chief/JJ\n",
            "  executive/NN\n",
            "  officer/NN\n",
            "  (/(\n",
            "  (ORGANIZATION CEO/NNP)\n",
            "  )/)\n",
            "  ,/,\n",
            "  and/CC\n",
            "  a/DT\n",
            "  co-founder/NN\n",
            "  of/IN\n",
            "  (ORGANIZATION Apple/NNP Inc./NNP)\n",
            "  ,/,\n",
            "  chairman/NN\n",
            "  and/CC\n",
            "  majority/NN\n",
            "  shareholder/NN\n",
            "  of/IN\n",
            "  (GPE Pixar/NNP)\n",
            "  ,/,\n",
            "  a/DT\n",
            "  member/NN\n",
            "  of/IN\n",
            "  The/DT\n",
            "  (ORGANIZATION Walt/NNP Disney/NNP Company/NNP)\n",
            "  's/POS\n",
            "  board/NN\n",
            "  of/IN\n",
            "  directors/NNS\n",
            "  following/VBG\n",
            "  its/PRP$\n",
            "  acquisition/NN\n",
            "  of/IN\n",
            "  (GPE Pixar/NNP)\n",
            "  ,/,\n",
            "  and/CC\n",
            "  the/DT\n",
            "  founder/NN\n",
            "  ,/,\n",
            "  chairman/NN\n",
            "  ,/,\n",
            "  and/CC\n",
            "  (ORGANIZATION CEO/NNP)\n",
            "  of/IN\n",
            "  (ORGANIZATION NeXT/NNP)\n",
            "  ./.\n",
            "  (PERSON Jobs/NNP)\n",
            "  is/VBZ\n",
            "  widely/RB\n",
            "  recognized/VBN\n",
            "  as/IN\n",
            "  a/DT\n",
            "  pioneer/NN\n",
            "  of/IN\n",
            "  the/DT\n",
            "  microcomputer/NN\n",
            "  revolution/NN\n",
            "  of/IN\n",
            "  the/DT\n",
            "  1970s/CD\n",
            "  and/CC\n",
            "  1980s/CD\n",
            "  ,/,\n",
            "  along/IN\n",
            "  with/IN\n",
            "  (PERSON Apple/NNP)\n",
            "  co-founder/NN\n",
            "  (PERSON Steve/NNP Wozniak/NNP)\n",
            "  ./.)\n"
          ]
        }
      ]
    },
    {
      "cell_type": "markdown",
      "source": [
        "Here there's a cleaner version of the Named Entity Recognition:"
      ],
      "metadata": {
        "id": "oybCEpwXzf1V"
      }
    },
    {
      "cell_type": "code",
      "source": [
        "for entity in NER:\n",
        "  if hasattr(entity, 'label'):\n",
        "    print(entity.label(), ' '.join(e[0] for e in entity))"
      ],
      "metadata": {
        "colab": {
          "base_uri": "https://localhost:8080/"
        },
        "id": "ay6ROB31wwbM",
        "outputId": "8a8eda88-2032-4f26-b38f-26e1f289606b"
      },
      "execution_count": 115,
      "outputs": [
        {
          "output_type": "stream",
          "name": "stdout",
          "text": [
            "PERSON Steve\n",
            "PERSON Jobs\n",
            "GPE American\n",
            "ORGANIZATION CEO\n",
            "ORGANIZATION Apple Inc.\n",
            "GPE Pixar\n",
            "ORGANIZATION Walt Disney Company\n",
            "GPE Pixar\n",
            "ORGANIZATION CEO\n",
            "ORGANIZATION NeXT\n",
            "PERSON Jobs\n",
            "PERSON Apple\n",
            "PERSON Steve Wozniak\n"
          ]
        }
      ]
    },
    {
      "cell_type": "markdown",
      "source": [
        "###Using Spacy library to figure out the entities inside the text\n",
        "\n",
        "As we could see, using NLTK, we got some wrong Named Entities because of how It was built. Another way is to use Spacy, that is a model and It was already trained to recognize entities.\n",
        "\n",
        "####An entity in this case scenario could be:\n",
        "####*A Person : PERSON\n",
        "####*A Nationality or Religious/Political Group : NORP\n",
        "####*An Organization : ORG\n",
        "####*A Date : DATE\n",
        "\n",
        "####Here we can use the model \"en_core_web_sm\" from Spicy collection, that is a pipeline used to identify vocabulary, syntax, entities"
      ],
      "metadata": {
        "id": "DUHWSnEd0utK"
      }
    },
    {
      "cell_type": "code",
      "source": [
        "import en_core_web_sm\n",
        "nlp = en_core_web_sm.load()"
      ],
      "metadata": {
        "id": "i709wf9L1VwF"
      },
      "execution_count": 116,
      "outputs": []
    },
    {
      "cell_type": "code",
      "source": [
        "entities = nlp(text)"
      ],
      "metadata": {
        "id": "SZfFz0YB1zea"
      },
      "execution_count": 117,
      "outputs": []
    },
    {
      "cell_type": "code",
      "source": [
        "for e in entities.ents:\n",
        "  print([e.text, e.label_])"
      ],
      "metadata": {
        "colab": {
          "base_uri": "https://localhost:8080/"
        },
        "id": "COKkAkzn15Eo",
        "outputId": "cc5eebc1-ba1a-42f4-84eb-ce88a7c9b608"
      },
      "execution_count": 118,
      "outputs": [
        {
          "output_type": "stream",
          "name": "stdout",
          "text": [
            "['Steve Jobs', 'PERSON']\n",
            "['American', 'NORP']\n",
            "['Apple Inc.', 'ORG']\n",
            "['Pixar', 'ORG']\n",
            "[\"The Walt Disney Company's\", 'ORG']\n",
            "['Pixar', 'ORG']\n",
            "['NeXT', 'ORG']\n",
            "['1970s', 'DATE']\n",
            "['1980s', 'DATE']\n",
            "['Apple', 'ORG']\n",
            "['Steve Wozniak', 'PERSON']\n"
          ]
        }
      ]
    },
    {
      "cell_type": "markdown",
      "source": [
        "Now we have a better solution, because the model could recognized that Steve Jobs is one person and Apple and Apple Inc. are an organization (actually we know that they're the same). Beyond that, we can see that Spacy can do a good job categorizing dates as well."
      ],
      "metadata": {
        "id": "M60TIfR62uBq"
      }
    }
  ]
}