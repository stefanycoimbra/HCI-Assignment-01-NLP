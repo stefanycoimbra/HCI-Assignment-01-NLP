{
  "nbformat": 4,
  "nbformat_minor": 0,
  "metadata": {
    "colab": {
      "provenance": [],
      "authorship_tag": "ABX9TyPnno+fRjOiF0gNvCvDadsf",
      "include_colab_link": true
    },
    "kernelspec": {
      "name": "python3",
      "display_name": "Python 3"
    },
    "language_info": {
      "name": "python"
    }
  },
  "cells": [
    {
      "cell_type": "markdown",
      "metadata": {
        "id": "view-in-github",
        "colab_type": "text"
      },
      "source": [
        "<a href=\"https://colab.research.google.com/github/stefanycoimbra/HCI-Assignment-01-NLP/blob/main/HCI_Assignment_01_Problem_05.ipynb\" target=\"_parent\"><img src=\"https://colab.research.google.com/assets/colab-badge.svg\" alt=\"Open In Colab\"/></a>"
      ]
    },
    {
      "cell_type": "markdown",
      "source": [
        "##Name : Stéfany Coura Coimbra\n",
        "##Student ID : B202300194\n",
        "\n",
        "##Python Assignment of Human-Computer Interaction : Part 05"
      ],
      "metadata": {
        "id": "U_RJYBoFLlTy"
      }
    },
    {
      "cell_type": "markdown",
      "source": [
        "#### **Problem 5:** Language detection Using NLTK Python and print the probabilities and language name for the following phrases:\n",
        "\n",
        "#### Phrase 1: Solen skinner i dag, fuglene synger, og det er sommer.\n",
        "\n",
        "#### Phrase 2: Ní dhéanfaidh ach Dia breithiúnas orm.\n",
        "\n",
        "#### Phrase 3: I domum et cuna matrem tuam in cochleare.\n",
        "\n",
        "#### Phrase 4: Huffa, huffa meg, det finns poteter på badet. Stakkars, stakkars meg, det finns poteter på badet."
      ],
      "metadata": {
        "id": "AH1ka2l3LqIe"
      }
    },
    {
      "cell_type": "markdown",
      "source": [
        "\n",
        "\n",
        "---\n",
        "\n",
        "##The approach\n",
        "In this problem, we need to detect the language using NLTK library. To do that, we will be using first the stopwords' corpus and try to compare the words between some sentences and the corpus to find a correlation and detect the language based on how many words we can match to a language on the list."
      ],
      "metadata": {
        "id": "p_QLI7t7DjEX"
      }
    },
    {
      "cell_type": "markdown",
      "source": [
        "---\n",
        "## Installing the NLTK library\n",
        "To start the task, first we need to install the NLTK Python Library so we can use the Natural Language Toolkit to do Natural Language Processing."
      ],
      "metadata": {
        "id": "fTYCxaCiL5Cm"
      }
    },
    {
      "cell_type": "code",
      "execution_count": 1,
      "metadata": {
        "colab": {
          "base_uri": "https://localhost:8080/"
        },
        "id": "-gCDlhaNLevG",
        "outputId": "d6fda89f-8def-4777-c1f5-aa9a741cf62f"
      },
      "outputs": [
        {
          "output_type": "stream",
          "name": "stdout",
          "text": [
            "Looking in indexes: https://pypi.org/simple, https://us-python.pkg.dev/colab-wheels/public/simple/\n",
            "Requirement already satisfied: nltk in /usr/local/lib/python3.9/dist-packages (3.8.1)\n",
            "Requirement already satisfied: click in /usr/local/lib/python3.9/dist-packages (from nltk) (8.1.3)\n",
            "Requirement already satisfied: joblib in /usr/local/lib/python3.9/dist-packages (from nltk) (1.2.0)\n",
            "Requirement already satisfied: tqdm in /usr/local/lib/python3.9/dist-packages (from nltk) (4.65.0)\n",
            "Requirement already satisfied: regex>=2021.8.3 in /usr/local/lib/python3.9/dist-packages (from nltk) (2022.10.31)\n"
          ]
        }
      ],
      "source": [
        "pip install nltk"
      ]
    },
    {
      "cell_type": "markdown",
      "source": [
        "\n",
        "\n",
        "---\n",
        "\n",
        "\n",
        "##Importing libraries"
      ],
      "metadata": {
        "id": "GtlvA4tSMkld"
      }
    },
    {
      "cell_type": "code",
      "source": [
        "import nltk\n",
        "from nltk.corpus import *\n",
        "from nltk import wordpunct_tokenize"
      ],
      "metadata": {
        "id": "kbtpdFBAMj7p"
      },
      "execution_count": 2,
      "outputs": []
    },
    {
      "cell_type": "code",
      "source": [
        "nltk.download('stopwords')"
      ],
      "metadata": {
        "colab": {
          "base_uri": "https://localhost:8080/"
        },
        "id": "B2Vr4IgZMros",
        "outputId": "600b24ea-bdf4-4ff7-e674-d89086dffebc"
      },
      "execution_count": 3,
      "outputs": [
        {
          "output_type": "stream",
          "name": "stderr",
          "text": [
            "[nltk_data] Downloading package stopwords to /root/nltk_data...\n",
            "[nltk_data]   Unzipping corpora/stopwords.zip.\n"
          ]
        },
        {
          "output_type": "execute_result",
          "data": {
            "text/plain": [
              "True"
            ]
          },
          "metadata": {},
          "execution_count": 3
        }
      ]
    },
    {
      "cell_type": "markdown",
      "source": [
        "\n",
        "\n",
        "---\n",
        "\n",
        "##Saving the sentences to be translated"
      ],
      "metadata": {
        "id": "vzArltbzMZP_"
      }
    },
    {
      "cell_type": "code",
      "source": [
        "text01 = \"Solen skinner i dag, fuglene synger, og det er sommer.\"\n",
        "text02 = \"Ní dhéanfaidh ach Dia breithiúnas orm.\"\n",
        "text03 = \"I domum et cuna matrem tuam in cochleare.\"\n",
        "text04 = \"Huffa, huffa meg, det finns poteter på badet. Stakkars, stakkars meg, det finns poteter på badet.\""
      ],
      "metadata": {
        "id": "uV1wtfq2L7u2"
      },
      "execution_count": 4,
      "outputs": []
    },
    {
      "cell_type": "markdown",
      "source": [
        "\n",
        "\n",
        "---\n",
        "\n",
        "\n",
        "##Building a function to print the percentages of each language when we try to detect the language of a sentence"
      ],
      "metadata": {
        "id": "CKP8ukQkMxqC"
      }
    },
    {
      "cell_type": "code",
      "source": [
        "def language_percentages(sentence):\n",
        "    language_ratio={}\n",
        "    tokens = wordpunct_tokenize(sentence)\n",
        "    words = [word.lower() for word in tokens]\n",
        "    for language in stopwords.fileids():\n",
        "        stopwords_set = set(stopwords.words(language))\n",
        "        words_set = set(words)\n",
        "        common_elements = words_set.intersection(stopwords_set)\n",
        "        language_ratio[language] = len(common_elements)/len(words_set)*100\n",
        "    return language_ratio "
      ],
      "metadata": {
        "id": "qFWf6Ku1DU1p"
      },
      "execution_count": 5,
      "outputs": []
    },
    {
      "cell_type": "markdown",
      "source": [
        "\n",
        "\n",
        "---\n",
        "\n",
        "##Building a function to detect the language"
      ],
      "metadata": {
        "id": "ipfn-XxdNNgR"
      }
    },
    {
      "cell_type": "code",
      "source": [
        "def detect_language(sentence):\n",
        "    ratios = language_percentages(sentence)\n",
        "    # chooses the maximum percentage as the final language \n",
        "    lang = max(ratios, key = ratios.get)\n",
        "    return lang"
      ],
      "metadata": {
        "id": "_6kky86CDYon"
      },
      "execution_count": 6,
      "outputs": []
    },
    {
      "cell_type": "markdown",
      "source": [
        "###Testing the functions to detect the language of some sentences and to see the ratios of each percentage"
      ],
      "metadata": {
        "id": "y_Aam3spN6Jr"
      }
    },
    {
      "cell_type": "markdown",
      "source": [
        "####Sentence 01:"
      ],
      "metadata": {
        "id": "DsIqBlldONUl"
      }
    },
    {
      "cell_type": "code",
      "source": [
        "lang01 = detect_language(text01)\n",
        "ratios01 = language_percentages(text01)\n",
        "print(text01)\n",
        "print(\"\\nLanguage: \"+ lang01)\n",
        "print(\"\\nPercentages: \")\n",
        "print(ratios01)"
      ],
      "metadata": {
        "colab": {
          "base_uri": "https://localhost:8080/"
        },
        "id": "2DGIXOZjDZRZ",
        "outputId": "100d6d95-d71b-4e9e-91b0-e07bd538421e"
      },
      "execution_count": 7,
      "outputs": [
        {
          "output_type": "stream",
          "name": "stdout",
          "text": [
            "Solen skinner i dag, fuglene synger, og det er sommer.\n",
            "\n",
            "Language: danish\n",
            "\n",
            "Percentages: \n",
            "{'arabic': 0.0, 'azerbaijani': 0.0, 'basque': 0.0, 'bengali': 0.0, 'catalan': 8.333333333333332, 'chinese': 0.0, 'danish': 33.33333333333333, 'dutch': 8.333333333333332, 'english': 8.333333333333332, 'finnish': 0.0, 'french': 0.0, 'german': 8.333333333333332, 'greek': 0.0, 'hebrew': 0.0, 'hinglish': 8.333333333333332, 'hungarian': 0.0, 'indonesian': 0.0, 'italian': 8.333333333333332, 'kazakh': 0.0, 'nepali': 0.0, 'norwegian': 33.33333333333333, 'portuguese': 0.0, 'romanian': 8.333333333333332, 'russian': 0.0, 'slovene': 0.0, 'spanish': 0.0, 'swedish': 25.0, 'tajik': 0.0, 'turkish': 0.0}\n"
          ]
        }
      ]
    },
    {
      "cell_type": "markdown",
      "source": [
        "####Sentence 02:"
      ],
      "metadata": {
        "id": "hC8mmpOYOQuJ"
      }
    },
    {
      "cell_type": "code",
      "source": [
        "lang02 = detect_language(text02)\n",
        "ratios02 = language_percentages(text02)\n",
        "print(\"\\n\"+text02)\n",
        "print(\"\\nLanguage: \"+ lang02)\n",
        "print(\"\\nPercentages: \")\n",
        "print(ratios02)"
      ],
      "metadata": {
        "colab": {
          "base_uri": "https://localhost:8080/"
        },
        "id": "NZDB7arMDdFi",
        "outputId": "223d17bc-de34-43ee-ee84-81a1330519c1"
      },
      "execution_count": 8,
      "outputs": [
        {
          "output_type": "stream",
          "name": "stdout",
          "text": [
            "\n",
            "Ní dhéanfaidh ach Dia breithiúnas orm.\n",
            "\n",
            "Language: indonesian\n",
            "\n",
            "Percentages: \n",
            "{'arabic': 0.0, 'azerbaijani': 0.0, 'basque': 0.0, 'bengali': 0.0, 'catalan': 0.0, 'chinese': 0.0, 'danish': 0.0, 'dutch': 0.0, 'english': 0.0, 'finnish': 0.0, 'french': 0.0, 'german': 0.0, 'greek': 0.0, 'hebrew': 0.0, 'hinglish': 0.0, 'hungarian': 0.0, 'indonesian': 14.285714285714285, 'italian': 0.0, 'kazakh': 0.0, 'nepali': 0.0, 'norwegian': 0.0, 'portuguese': 0.0, 'romanian': 0.0, 'russian': 0.0, 'slovene': 0.0, 'spanish': 0.0, 'swedish': 0.0, 'tajik': 0.0, 'turkish': 0.0}\n"
          ]
        }
      ]
    },
    {
      "cell_type": "markdown",
      "source": [
        "####Sentence 03:"
      ],
      "metadata": {
        "id": "JdhXu09KOUmT"
      }
    },
    {
      "cell_type": "code",
      "source": [
        "lang03 = detect_language(text03)\n",
        "ratios03 = language_percentages(text03)\n",
        "print(\"\\n\"+text03)\n",
        "print(\"\\nLanguage: \"+ lang03)\n",
        "print(\"\\nPercentages: \")\n",
        "print(ratios03)"
      ],
      "metadata": {
        "colab": {
          "base_uri": "https://localhost:8080/"
        },
        "id": "gJ8iwfdDDi9y",
        "outputId": "179265af-279e-43d4-c1da-72f1af24276b"
      },
      "execution_count": 9,
      "outputs": [
        {
          "output_type": "stream",
          "name": "stdout",
          "text": [
            "\n",
            "I domum et cuna matrem tuam in cochleare.\n",
            "\n",
            "Language: azerbaijani\n",
            "\n",
            "Percentages: \n",
            "{'arabic': 0.0, 'azerbaijani': 22.22222222222222, 'basque': 0.0, 'bengali': 0.0, 'catalan': 22.22222222222222, 'chinese': 0.0, 'danish': 22.22222222222222, 'dutch': 11.11111111111111, 'english': 22.22222222222222, 'finnish': 11.11111111111111, 'french': 11.11111111111111, 'german': 11.11111111111111, 'greek': 0.0, 'hebrew': 0.0, 'hinglish': 22.22222222222222, 'hungarian': 0.0, 'indonesian': 0.0, 'italian': 22.22222222222222, 'kazakh': 0.0, 'nepali': 0.0, 'norwegian': 22.22222222222222, 'portuguese': 0.0, 'romanian': 22.22222222222222, 'russian': 0.0, 'slovene': 11.11111111111111, 'spanish': 0.0, 'swedish': 11.11111111111111, 'tajik': 0.0, 'turkish': 0.0}\n"
          ]
        }
      ]
    },
    {
      "cell_type": "markdown",
      "source": [
        "####Sentence 04:"
      ],
      "metadata": {
        "id": "vzCAJulTOXnJ"
      }
    },
    {
      "cell_type": "code",
      "source": [
        "lang04 = detect_language(text04)\n",
        "ratios04 = language_percentages(text04)\n",
        "print(\"\\n\"+text04)\n",
        "print(\"\\nLanguage: \"+ lang04)\n",
        "print(\"\\nPercentages: \")\n",
        "print(ratios04)"
      ],
      "metadata": {
        "colab": {
          "base_uri": "https://localhost:8080/"
        },
        "id": "ly8acYnrDko8",
        "outputId": "ab751cf2-9281-41ed-cc36-4f4bf1f7efaf"
      },
      "execution_count": 10,
      "outputs": [
        {
          "output_type": "stream",
          "name": "stdout",
          "text": [
            "\n",
            "Huffa, huffa meg, det finns poteter på badet. Stakkars, stakkars meg, det finns poteter på badet.\n",
            "\n",
            "Language: norwegian\n",
            "\n",
            "Percentages: \n",
            "{'arabic': 0.0, 'azerbaijani': 0.0, 'basque': 0.0, 'bengali': 0.0, 'catalan': 0.0, 'chinese': 0.0, 'danish': 20.0, 'dutch': 0.0, 'english': 0.0, 'finnish': 0.0, 'french': 0.0, 'german': 0.0, 'greek': 0.0, 'hebrew': 0.0, 'hinglish': 0.0, 'hungarian': 10.0, 'indonesian': 0.0, 'italian': 0.0, 'kazakh': 0.0, 'nepali': 0.0, 'norwegian': 30.0, 'portuguese': 0.0, 'romanian': 0.0, 'russian': 0.0, 'slovene': 0.0, 'spanish': 0.0, 'swedish': 20.0, 'tajik': 0.0, 'turkish': 0.0}\n"
          ]
        }
      ]
    },
    {
      "cell_type": "markdown",
      "source": [
        "\n",
        "\n",
        "---\n",
        "\n",
        "##A different approach using TextCat"
      ],
      "metadata": {
        "id": "W5SDu7P5PAEQ"
      }
    },
    {
      "cell_type": "code",
      "source": [
        "from nltk.classify.textcat import TextCat\n",
        "nltk.download('crubadan')"
      ],
      "metadata": {
        "colab": {
          "base_uri": "https://localhost:8080/"
        },
        "id": "vjcfCPGqPIF6",
        "outputId": "23871ebc-9331-4be8-984e-f77a38aa536b"
      },
      "execution_count": 63,
      "outputs": [
        {
          "output_type": "stream",
          "name": "stderr",
          "text": [
            "[nltk_data] Downloading package crubadan to /root/nltk_data...\n",
            "[nltk_data]   Package crubadan is already up-to-date!\n"
          ]
        },
        {
          "output_type": "execute_result",
          "data": {
            "text/plain": [
              "True"
            ]
          },
          "metadata": {},
          "execution_count": 63
        }
      ]
    },
    {
      "cell_type": "markdown",
      "source": [
        "###Sentence 01:"
      ],
      "metadata": {
        "id": "oHQEZom7PMl4"
      }
    },
    {
      "cell_type": "code",
      "source": [
        "textcat = TextCat()\n",
        "textcat.guess_language(text01)"
      ],
      "metadata": {
        "colab": {
          "base_uri": "https://localhost:8080/",
          "height": 35
        },
        "id": "HJCvKtPbO_lB",
        "outputId": "19859e4a-1ac7-4d7f-869b-164dee1da79e"
      },
      "execution_count": 66,
      "outputs": [
        {
          "output_type": "execute_result",
          "data": {
            "text/plain": [
              "'nob'"
            ],
            "application/vnd.google.colaboratory.intrinsic+json": {
              "type": "string"
            }
          },
          "metadata": {},
          "execution_count": 66
        }
      ]
    },
    {
      "cell_type": "markdown",
      "source": [
        "###Sentence 02:"
      ],
      "metadata": {
        "id": "Zak0y01qPPsH"
      }
    },
    {
      "cell_type": "code",
      "source": [
        "textcat = TextCat()\n",
        "textcat.guess_language(text02)"
      ],
      "metadata": {
        "colab": {
          "base_uri": "https://localhost:8080/",
          "height": 35
        },
        "id": "yT_zosVfPZgq",
        "outputId": "16530fc1-3e06-482a-bc60-cf156b6c738c"
      },
      "execution_count": 67,
      "outputs": [
        {
          "output_type": "execute_result",
          "data": {
            "text/plain": [
              "'gle'"
            ],
            "application/vnd.google.colaboratory.intrinsic+json": {
              "type": "string"
            }
          },
          "metadata": {},
          "execution_count": 67
        }
      ]
    },
    {
      "cell_type": "markdown",
      "source": [
        "###Sentence 03:"
      ],
      "metadata": {
        "id": "7lHLzuXBPRi7"
      }
    },
    {
      "cell_type": "code",
      "source": [
        "textcat = TextCat()\n",
        "textcat.guess_language(text03)"
      ],
      "metadata": {
        "colab": {
          "base_uri": "https://localhost:8080/",
          "height": 35
        },
        "id": "RrqhI06BPbvo",
        "outputId": "a2f7e501-45f2-4f3c-e2e0-1280901d7d73"
      },
      "execution_count": 68,
      "outputs": [
        {
          "output_type": "execute_result",
          "data": {
            "text/plain": [
              "'eng '"
            ],
            "application/vnd.google.colaboratory.intrinsic+json": {
              "type": "string"
            }
          },
          "metadata": {},
          "execution_count": 68
        }
      ]
    },
    {
      "cell_type": "markdown",
      "source": [
        "###Sentence 04:"
      ],
      "metadata": {
        "id": "JpKb_fghPTUa"
      }
    },
    {
      "cell_type": "code",
      "source": [
        "textcat = TextCat()\n",
        "textcat.guess_language(text04)"
      ],
      "metadata": {
        "colab": {
          "base_uri": "https://localhost:8080/",
          "height": 35
        },
        "id": "BqKVjvVSPVOV",
        "outputId": "6b4a240b-8535-4e6b-e8fc-22d2e3a28976"
      },
      "execution_count": 65,
      "outputs": [
        {
          "output_type": "execute_result",
          "data": {
            "text/plain": [
              "'nno'"
            ],
            "application/vnd.google.colaboratory.intrinsic+json": {
              "type": "string"
            }
          },
          "metadata": {},
          "execution_count": 65
        }
      ]
    },
    {
      "cell_type": "markdown",
      "source": [
        "\n",
        "\n",
        "---\n",
        "\n",
        "\n",
        "##Using another corpus to detect the language of a phrase"
      ],
      "metadata": {
        "id": "1eYlvQNmOahT"
      }
    },
    {
      "cell_type": "markdown",
      "source": [
        "If we put the sentences on Google Translator and see which language It detects, some of the sentences in the first approach doesn't match to our program's response and the second approach is worse. Then, let's try a different approach using another corpus.\n",
        "\n",
        "The udhr stands for \"Universal Declaration of Human Rights\" and it's a corpus included on NLTK's library. We will use it to try a new approach.\n",
        "\n",
        "Credits: https://towardsdatascience.com/how-to-do-language-detection-using-python-nltk-and-some-easy-statistics-6cec9a02148"
      ],
      "metadata": {
        "id": "p-yPS0ibOpIU"
      }
    },
    {
      "cell_type": "code",
      "source": [
        "nltk.download('udhr')\n",
        "from nltk.corpus import udhr "
      ],
      "metadata": {
        "colab": {
          "base_uri": "https://localhost:8080/"
        },
        "id": "QFgTKBFPtxI0",
        "outputId": "0159dbbd-ec10-4741-becf-b51f426ebdd8"
      },
      "execution_count": 11,
      "outputs": [
        {
          "output_type": "stream",
          "name": "stderr",
          "text": [
            "[nltk_data] Downloading package udhr to /root/nltk_data...\n",
            "[nltk_data]   Unzipping corpora/udhr.zip.\n"
          ]
        }
      ]
    },
    {
      "cell_type": "markdown",
      "source": [
        "This corpus has many more languages:"
      ],
      "metadata": {
        "id": "uG2JsVgqG7DT"
      }
    },
    {
      "cell_type": "code",
      "source": [
        "udhr.fileids()"
      ],
      "metadata": {
        "colab": {
          "base_uri": "https://localhost:8080/"
        },
        "id": "bzinSxBXGSOt",
        "outputId": "727e36b1-5c1e-478d-88bd-09a4912cbe9d"
      },
      "execution_count": 12,
      "outputs": [
        {
          "output_type": "execute_result",
          "data": {
            "text/plain": [
              "['Abkhaz-Cyrillic+Abkh',\n",
              " 'Abkhaz-UTF8',\n",
              " 'Achehnese-Latin1',\n",
              " 'Achuar-Shiwiar-Latin1',\n",
              " 'Adja-UTF8',\n",
              " 'Afaan_Oromo_Oromiffa-Latin1',\n",
              " 'Afrikaans-Latin1',\n",
              " 'Aguaruna-Latin1',\n",
              " 'Akuapem_Twi-UTF8',\n",
              " 'Albanian_Shqip-Latin1',\n",
              " 'Amahuaca',\n",
              " 'Amahuaca-Latin1',\n",
              " 'Amarakaeri-Latin1',\n",
              " 'Amuesha-Yanesha-UTF8',\n",
              " 'Arabela-Latin1',\n",
              " 'Arabic_Alarabia-Arabic',\n",
              " 'Asante-UTF8',\n",
              " 'Ashaninca-Latin1',\n",
              " 'Asheninca-Latin1',\n",
              " 'Asturian_Bable-Latin1',\n",
              " 'Aymara-Latin1',\n",
              " 'Balinese-Latin1',\n",
              " 'Bambara-UTF8',\n",
              " 'Baoule-UTF8',\n",
              " 'Basque_Euskara-Latin1',\n",
              " 'Batonu_Bariba-UTF8',\n",
              " 'Belorus_Belaruski-Cyrillic',\n",
              " 'Belorus_Belaruski-UTF8',\n",
              " 'Bemba-Latin1',\n",
              " 'Bengali-UTF8',\n",
              " 'Beti-UTF8',\n",
              " 'Bichelamar-Latin1',\n",
              " 'Bikol_Bicolano-Latin1',\n",
              " 'Bora-Latin1',\n",
              " 'Bosnian_Bosanski-Cyrillic',\n",
              " 'Bosnian_Bosanski-Latin2',\n",
              " 'Bosnian_Bosanski-UTF8',\n",
              " 'Breton-Latin1',\n",
              " 'Bugisnese-Latin1',\n",
              " 'Bulgarian_Balgarski-Cyrillic',\n",
              " 'Bulgarian_Balgarski-UTF8',\n",
              " 'Cakchiquel-Latin1',\n",
              " 'Campa_Pajonalino-Latin1',\n",
              " 'Candoshi-Shapra-Latin1',\n",
              " 'Caquinte-Latin1',\n",
              " 'Cashibo-Cacataibo-Latin1',\n",
              " 'Cashinahua-Latin1',\n",
              " 'Catalan-Latin1',\n",
              " 'Catalan_Catala-Latin1',\n",
              " 'Cebuano-Latin1',\n",
              " 'Chamorro-Latin1',\n",
              " 'Chayahuita-Latin1',\n",
              " 'Chechewa_Nyanja-Latin1',\n",
              " 'Chickasaw-Latin1',\n",
              " 'Chinanteco-Ajitlan-Latin1',\n",
              " 'Chinanteco-UTF8',\n",
              " 'Chinese_Mandarin-GB2312',\n",
              " 'Chuuk_Trukese-Latin1',\n",
              " 'Cokwe-Latin1',\n",
              " 'Corsican-Latin1',\n",
              " 'Croatian_Hrvatski-Latin2',\n",
              " 'Czech-Latin2',\n",
              " 'Czech-UTF8',\n",
              " 'Czech_Cesky-Latin2',\n",
              " 'Czech_Cesky-UTF8',\n",
              " 'Dagaare-UTF8',\n",
              " 'Dagbani-UTF8',\n",
              " 'Dangme-UTF8',\n",
              " 'Danish_Dansk-Latin1',\n",
              " 'Dendi-UTF8',\n",
              " 'Ditammari-UTF8',\n",
              " 'Dutch_Nederlands-Latin1',\n",
              " 'Edo-Latin1',\n",
              " 'English-Latin1',\n",
              " 'Esperanto-UTF8',\n",
              " 'Estonian_Eesti-Latin1',\n",
              " 'Ewe_Eve-UTF8',\n",
              " 'Fante-UTF8',\n",
              " 'Faroese-Latin1',\n",
              " 'Farsi_Persian-UTF8',\n",
              " 'Farsi_Persian-v2-UTF8',\n",
              " 'Fijian-Latin1',\n",
              " 'Filipino_Tagalog-Latin1',\n",
              " 'Finnish_Suomi-Latin1',\n",
              " 'Fon-UTF8',\n",
              " 'French_Francais-Latin1',\n",
              " 'Frisian-Latin1',\n",
              " 'Friulian_Friulano-Latin1',\n",
              " 'Ga-UTF8',\n",
              " 'Gagauz_Gagauzi-UTF8',\n",
              " 'Galician_Galego-Latin1',\n",
              " 'Garifuna_Garifuna-Latin1',\n",
              " 'German_Deutsch-Latin1',\n",
              " 'Gonja-UTF8',\n",
              " 'Greek_Ellinika-Greek',\n",
              " 'Greek_Ellinika-UTF8',\n",
              " 'Greenlandic_Inuktikut-Latin1',\n",
              " 'Guarani-Latin1',\n",
              " 'Guen_Mina-UTF8',\n",
              " 'HaitianCreole_Kreyol-Latin1',\n",
              " 'HaitianCreole_Popular-Latin1',\n",
              " 'Hani-Latin1',\n",
              " 'Hausa_Haoussa-Latin1',\n",
              " 'Hawaiian-UTF8',\n",
              " 'Hebrew_Ivrit-Hebrew',\n",
              " 'Hebrew_Ivrit-UTF8',\n",
              " 'Hiligaynon-Latin1',\n",
              " 'Hindi-UTF8',\n",
              " 'Hindi_web-UTF8',\n",
              " 'Hmong_Miao-Sichuan-Guizhou-Yunnan-Latin1',\n",
              " 'Hmong_Miao-SouthernEast-Guizhou-Latin1',\n",
              " 'Hmong_Miao_Northern-East-Guizhou-Latin1',\n",
              " 'Hrvatski_Croatian-Latin2',\n",
              " 'Huasteco-Latin1',\n",
              " 'Huitoto_Murui-Latin1',\n",
              " 'Hungarian_Magyar-Latin1',\n",
              " 'Hungarian_Magyar-Latin2',\n",
              " 'Hungarian_Magyar-UTF8',\n",
              " 'Ibibio_Efik-Latin1',\n",
              " 'Icelandic_Yslenska-Latin1',\n",
              " 'Ido-Latin1',\n",
              " 'Igbo-UTF8',\n",
              " 'Iloko_Ilocano-Latin1',\n",
              " 'Indonesian-Latin1',\n",
              " 'Interlingua-Latin1',\n",
              " 'Inuktikut_Greenlandic-Latin1',\n",
              " 'IrishGaelic_Gaeilge-Latin1',\n",
              " 'Italian-Latin1',\n",
              " 'Italian_Italiano-Latin1',\n",
              " 'Japanese_Nihongo-EUC',\n",
              " 'Japanese_Nihongo-SJIS',\n",
              " 'Japanese_Nihongo-UTF8',\n",
              " 'Javanese-Latin1',\n",
              " 'Jola-Fogny_Diola-UTF8',\n",
              " 'Kabye-UTF8',\n",
              " 'Kannada-UTF8',\n",
              " 'Kaonde-Latin1',\n",
              " 'Kapampangan-Latin1',\n",
              " 'Kasem-UTF8',\n",
              " 'Kazakh-Cyrillic',\n",
              " 'Kazakh-UTF8',\n",
              " 'Kiche_Quiche-Latin1',\n",
              " 'Kicongo-Latin1',\n",
              " 'Kimbundu_Mbundu-Latin1',\n",
              " 'Kinyamwezi_Nyamwezi-Latin1',\n",
              " 'Kinyarwanda-Latin1',\n",
              " 'Kituba-Latin1',\n",
              " 'Korean_Hankuko-UTF8',\n",
              " 'Kpelewo-UTF8',\n",
              " 'Krio-UTF8',\n",
              " 'Kurdish-UTF8',\n",
              " 'Lamnso_Lam-nso-UTF8',\n",
              " 'Latin_Latina-Latin1',\n",
              " 'Latin_Latina-v2-Latin1',\n",
              " 'Latvian-Latin1',\n",
              " 'Limba-UTF8',\n",
              " 'Lingala-Latin1',\n",
              " 'Lithuanian_Lietuviskai-Baltic',\n",
              " 'Lozi-Latin1',\n",
              " 'Luba-Kasai_Tshiluba-Latin1',\n",
              " 'Luganda_Ganda-Latin1',\n",
              " 'Lunda_Chokwe-lunda-Latin1',\n",
              " 'Luvale-Latin1',\n",
              " 'Luxembourgish_Letzebuergeusch-Latin1',\n",
              " 'Macedonian-UTF8',\n",
              " 'Madurese-Latin1',\n",
              " 'Makonde-Latin1',\n",
              " 'Malagasy-Latin1',\n",
              " 'Malay_BahasaMelayu-Latin1',\n",
              " 'Maltese-UTF8',\n",
              " 'Mam-Latin1',\n",
              " 'Maninka-UTF8',\n",
              " 'Maori-Latin1',\n",
              " 'Mapudungun_Mapuzgun-Latin1',\n",
              " 'Mapudungun_Mapuzgun-UTF8',\n",
              " 'Marshallese-Latin1',\n",
              " 'Matses-Latin1',\n",
              " 'Mayan_Yucateco-Latin1',\n",
              " 'Mazahua_Jnatrjo-UTF8',\n",
              " 'Mazateco-Latin1',\n",
              " 'Mende-UTF8',\n",
              " 'Mikmaq_Micmac-Mikmaq-Latin1',\n",
              " 'Minangkabau-Latin1',\n",
              " 'Miskito_Miskito-Latin1',\n",
              " 'Mixteco-Latin1',\n",
              " 'Mongolian_Khalkha-Cyrillic',\n",
              " 'Mongolian_Khalkha-UTF8',\n",
              " 'Moore_More-UTF8',\n",
              " 'Nahuatl-Latin1',\n",
              " 'Ndebele-Latin1',\n",
              " 'Nepali-UTF8',\n",
              " 'Ngangela_Nyemba-Latin1',\n",
              " 'NigerianPidginEnglish-Latin1',\n",
              " 'Nomatsiguenga-Latin1',\n",
              " 'NorthernSotho_Pedi-Sepedi-Latin1',\n",
              " 'Norwegian-Latin1',\n",
              " 'Norwegian_Norsk-Bokmal-Latin1',\n",
              " 'Norwegian_Norsk-Nynorsk-Latin1',\n",
              " 'Nyanja_Chechewa-Latin1',\n",
              " 'Nyanja_Chinyanja-Latin1',\n",
              " 'Nzema-UTF8',\n",
              " 'OccitanAuvergnat-Latin1',\n",
              " 'OccitanLanguedocien-Latin1',\n",
              " 'Oromiffa_AfaanOromo-Latin1',\n",
              " 'Osetin_Ossetian-UTF8',\n",
              " 'Oshiwambo_Ndonga-Latin1',\n",
              " 'Otomi_Nahnu-Latin1',\n",
              " 'Paez-Latin1',\n",
              " 'Palauan-Latin1',\n",
              " 'Peuhl-UTF8',\n",
              " 'Picard-Latin1',\n",
              " 'Pipil-Latin1',\n",
              " 'Polish-Latin2',\n",
              " 'Polish_Polski-Latin2',\n",
              " 'Ponapean-Latin1',\n",
              " 'Portuguese_Portugues-Latin1',\n",
              " 'Pulaar-UTF8',\n",
              " 'Punjabi_Panjabi-UTF8',\n",
              " 'Purhepecha-UTF8',\n",
              " 'Qechi_Kekchi-Latin1',\n",
              " 'Quechua-Latin1',\n",
              " 'Quichua-Latin1',\n",
              " 'Rarotongan_MaoriCookIslands-Latin1',\n",
              " 'Rhaeto-Romance_Rumantsch-Latin1',\n",
              " 'Romani-Latin1',\n",
              " 'Romani-UTF8',\n",
              " 'Romanian-Latin2',\n",
              " 'Romanian_Romana-Latin2',\n",
              " 'Rukonzo_Konjo-Latin1',\n",
              " 'Rundi_Kirundi-Latin1',\n",
              " 'Runyankore-rukiga_Nkore-kiga-Latin1',\n",
              " 'Russian-Cyrillic',\n",
              " 'Russian-UTF8',\n",
              " 'Russian_Russky-Cyrillic',\n",
              " 'Russian_Russky-UTF8',\n",
              " 'Sami_Lappish-UTF8',\n",
              " 'Sammarinese-Latin1',\n",
              " 'Samoan-Latin1',\n",
              " 'Sango_Sangho-Latin1',\n",
              " 'Sanskrit-UTF8',\n",
              " 'Saraiki-UTF8',\n",
              " 'Sardinian-Latin1',\n",
              " 'ScottishGaelic_GaidhligAlbanach-Latin1',\n",
              " 'Seereer-UTF8',\n",
              " 'Serbian_Srpski-Cyrillic',\n",
              " 'Serbian_Srpski-Latin2',\n",
              " 'Serbian_Srpski-UTF8',\n",
              " 'Sharanahua-Latin1',\n",
              " 'Shipibo-Conibo-Latin1',\n",
              " 'Shona-Latin1',\n",
              " 'Sinhala-UTF8',\n",
              " 'Siswati-Latin1',\n",
              " 'Slovak-Latin2',\n",
              " 'Slovak_Slovencina-Latin2',\n",
              " 'Slovenian_Slovenscina-Latin2',\n",
              " 'SolomonsPidgin_Pijin-Latin1',\n",
              " 'Somali-Latin1',\n",
              " 'Soninke_Soninkanxaane-UTF8',\n",
              " 'Sorbian-Latin2',\n",
              " 'SouthernSotho_Sotho-Sesotho-Sutu-Sesutu-Latin1',\n",
              " 'Spanish-Latin1',\n",
              " 'Spanish_Espanol-Latin1',\n",
              " 'Sukuma-Latin1',\n",
              " 'Sundanese-Latin1',\n",
              " 'Sussu_Soussou-Sosso-Soso-Susu-UTF8',\n",
              " 'Swaheli-Latin1',\n",
              " 'Swahili_Kiswahili-Latin1',\n",
              " 'Swedish_Svenska-Latin1',\n",
              " 'Tahitian-UTF8',\n",
              " 'Tenek_Huasteco-Latin1',\n",
              " 'Tetum-Latin1',\n",
              " 'Themne_Temne-UTF8',\n",
              " 'Tiv-Latin1',\n",
              " 'Toba-UTF8',\n",
              " 'Tojol-abal-Latin1',\n",
              " 'TokPisin-Latin1',\n",
              " 'Tonga-Latin1',\n",
              " 'Tongan_Tonga-Latin1',\n",
              " 'Totonaco-Latin1',\n",
              " 'Trukese_Chuuk-Latin1',\n",
              " 'Turkish_Turkce-Turkish',\n",
              " 'Turkish_Turkce-UTF8',\n",
              " 'Tzeltal-Latin1',\n",
              " 'Tzotzil-Latin1',\n",
              " 'Uighur_Uyghur-Latin1',\n",
              " 'Uighur_Uyghur-UTF8',\n",
              " 'Ukrainian-Cyrillic',\n",
              " 'Ukrainian-UTF8',\n",
              " 'Umbundu-Latin1',\n",
              " 'Urarina-Latin1',\n",
              " 'Uzbek-Latin1',\n",
              " 'Vietnamese-ALRN-UTF8',\n",
              " 'Vietnamese-UTF8',\n",
              " 'Vlach-Latin1',\n",
              " 'Walloon_Wallon-Latin1',\n",
              " 'Wama-UTF8',\n",
              " 'Waray-Latin1',\n",
              " 'Wayuu-Latin1',\n",
              " 'Welsh_Cymraeg-Latin1',\n",
              " 'WesternSotho_Tswana-Setswana-Latin1',\n",
              " 'Wolof-Latin1',\n",
              " 'Xhosa-Latin1',\n",
              " 'Yagua-Latin1',\n",
              " 'Yao-Latin1',\n",
              " 'Yapese-Latin1',\n",
              " 'Yoruba-UTF8',\n",
              " 'Zapoteco-Latin1',\n",
              " 'Zapoteco-SanLucasQuiavini-Latin1',\n",
              " 'Zhuang-Latin1',\n",
              " 'Zulu-Latin1']"
            ]
          },
          "metadata": {},
          "execution_count": 12
        }
      ]
    },
    {
      "cell_type": "markdown",
      "source": [
        "Now, let's put in a vector the languages and in the other, the id's from the corpus:"
      ],
      "metadata": {
        "id": "IBGz6B4ZHDEP"
      }
    },
    {
      "cell_type": "code",
      "source": [
        "languages = ['japanese', 'russian', 'portuguese', 'english', 'german', 'dutch', 'french', 'italian', 'spanish', 'norwegian', 'irish', 'latin', 'korean']\n",
        "languages_id = ['Japanese_Nihongo-UTF8', 'Russian-UTF8', 'Portuguese_Portugues-Latin1', 'English-Latin1', 'German_Deutsch-Latin1', 'Dutch_Nederlands-Latin1', 'French_Francais-Latin1', 'Italian_Italiano-Latin1', 'Spanish_Espanol-Latin1', 'Norwegian-Latin1', 'IrishGaelic_Gaeilge-Latin1', 'Latin_Latina-Latin1', 'Korean_Hankuko-UTF8']"
      ],
      "metadata": {
        "id": "Lr62X5wMCqsm"
      },
      "execution_count": 14,
      "outputs": []
    },
    {
      "cell_type": "code",
      "source": [
        "import typing"
      ],
      "metadata": {
        "id": "wsicU-fxItHl"
      },
      "execution_count": 26,
      "outputs": []
    },
    {
      "cell_type": "code",
      "source": [
        "# Function to extract n words from a sentence in each interaction\n",
        "# sentence: the text from which to extract n-grams\n",
        "# n: the sizes of n-grams to extract\n",
        "def extract_ngrams(sentence, n):\n",
        "    ngrams = []\n",
        "    for size in n:\n",
        "        # if size > len(text) then no n-grams will fit, and we would return an empty list\n",
        "        if size < len(sentence):\n",
        "            for i in range(len(sentence) - size + 1) :\n",
        "                ng = sentence[i:i+size]\n",
        "                ngrams.append(ng)\n",
        "    return ngrams"
      ],
      "metadata": {
        "id": "KXG-LneeFBRK"
      },
      "execution_count": 27,
      "outputs": []
    },
    {
      "cell_type": "code",
      "source": [
        "import collections"
      ],
      "metadata": {
        "id": "N7HB8ECTI1s6"
      },
      "execution_count": 32,
      "outputs": []
    },
    {
      "cell_type": "code",
      "source": [
        "# Function to build a model that has the probabilities of n-grams of different lengths\n",
        "# sentence: the text from which to extract n-grams\n",
        "# n: the sizes of n-grams to extract\n",
        "def prob_model(sentence, n):\n",
        "    model = collections.Counter(extract_ngrams(sentence, n))  \n",
        "    num_ngrams = sum(model.values())\n",
        "    for ng in model:\n",
        "        model[ng] = model[ng] / num_ngrams\n",
        "    return model"
      ],
      "metadata": {
        "id": "WUIvmby-FC1I"
      },
      "execution_count": 33,
      "outputs": []
    },
    {
      "cell_type": "markdown",
      "source": [
        "Here we will put in a dictionary the text to each language. The examples match with the correct language. "
      ],
      "metadata": {
        "id": "AV1UvtBBJPwB"
      }
    },
    {
      "cell_type": "code",
      "source": [
        "text_of_languages = {language: udhr.raw(languages_id) for language, languages_id in zip(languages, languages_id)}"
      ],
      "metadata": {
        "id": "LSBnT8oECxE2"
      },
      "execution_count": 36,
      "outputs": []
    },
    {
      "cell_type": "markdown",
      "source": [
        "Let's see an example for Portuguese language:"
      ],
      "metadata": {
        "id": "7PVSrUb9J0Px"
      }
    },
    {
      "cell_type": "code",
      "source": [
        "print(text_of_languages['portuguese'])"
      ],
      "metadata": {
        "colab": {
          "base_uri": "https://localhost:8080/"
        },
        "id": "leBFaDJfJwFJ",
        "outputId": "c3501cb3-e770-4a30-fb10-4b14995de583"
      },
      "execution_count": 37,
      "outputs": [
        {
          "output_type": "stream",
          "name": "stdout",
          "text": [
            "Declaração Universal dos Direitos Humanos\n",
            "Preâmbulo\n",
            "Considerando que o reconhecimento da dignidade inerente a todos os membros da família humana e dos seus direitos iguais e inalienáveis constitui o fundamento da liberdade, da justiça e da paz no mundo; \n",
            "Considerando que o desconhecimento e o desprezo dos direitos do Homen conduziram a actos de barbárie que revoltam a consciência da Humanidade e que o advento de um mundo em que os seres humanos sejam livres de falar e de crer, libertos do terror e da miséria, foi proclamado como a mais alta inspiração do Homem; \n",
            "Considerando que é essencial a proteção dos direitos do Homem através de um regime de direito, para que o Homem não seja compelido, em supremo recurso, à revolta contra a tirania e a opressão; \n",
            "Considerando que é essencial encorajar o desenvolvimento de relações amistosas entre as nações; \n",
            "Considerando que, na Carta, os povos das Nações Unidas proclamam, de novo, a sua fé nos direitos fundamentais do Homem, na dignidade e no valor da pessoa humana, na igualdade de direitos dos homens e das mulheres e se declaram resolvidos a favorecer o progresso social e a instaurar melhores condições de vida dentro de uma liberdade mais ampla; \n",
            "Considerando que os Estados membros se comprometeram a promover, em cooperação com a Organização das Nações Unidas, o respeito universal e efectivo dos direitos do Homem e das liberdades fundamentais; \n",
            "Considerando que uma concepção comum destes direitos e liberdades é da mais alta importância para dar plena satisfação a tal compromisso: \n",
            "A Assembléia Geral proclama a presente Declaração Universal \n",
            "dos Direitos Humanos \n",
            "como ideal comum a atingir por todos os povos e todas as nações, a fim de que todos os indivíduos e todos os orgãos da sociedade, tendo-a constantemente no espírito, se esforcem, pelo ensino e pela educação, por desenvolver o respeito desses direitos e liberdades e por promover, por medidas progressivas de ordem nacional e internacional, o seu reconhecimento e a sua aplicação universais e efectivos tanto entre as populações dos próprios Estados membros como entre as dos territórios colocados sob a sua jurisdição. \n",
            "Artigo 1° \n",
            "Todos os seres humanos nascem livres e iguais em dignidade e em direitos. Dotados de razão e de consciência, devem agir uns para com os outros em espírito de fraternidade. \n",
            "Artigo 2° \n",
            "Todos os seres humanos podem invocar os direitos e as liberdades proclamados na presente Declaração, sem distinção alguma, nomeadamente de raça, de cor, de sexo, de língua, de religião, de opinião política ou outra, de origem nacional ou social, de fortuna, de nascimento ou de qualquer outra situação. Além disso, não será feita nenhuma distinção fundada no estatuto político, jurídico ou internacional do país ou do território da naturalidade da pessoa, seja esse país ou território independente, sob tutela, autônomo ou sujeito a alguma limitação de soberania. \n",
            "Artigo 3°\n",
            "Todo indivíduo tem direito à vida, à liberdade e à segurança pessoal. \n",
            "Artigo 4° \n",
            "Ninguém será mantido em escravatura ou em servidão; a escravatura e o trato dos escravos, sob todas as formas, são proibidos. \n",
            "Artigo 5° \n",
            "Ninguém será submetido a tortura nem a penas ou tratamentos cruéis, desumanos ou degradantes. \n",
            "Artigo 6°\n",
            "Todos os indivíduos têm direito ao reconhecimento, em todos os lugares, da sua personalidade jurídica. \n",
            "Artigo 7° \n",
            "Todos são iguais perante a lei e, sem distinção, têm direito a igual protecção da lei. Todos têm direito a protecção igual contra qualquer discriminação que viole a presente Declaração e contra qualquer incitamento a tal discriminação. \n",
            "Artigo 8°\n",
            "Toda a pessoa direito a recurso efectivo para as jurisdições nacionais competentes contra os actos que violem os direitos fundamentais reconhecidos pela Constituição ou pela lei. \n",
            "Artigo 9°\n",
            "Ninguém pode ser arbitrariamente preso, detido ou exilado. \n",
            "Artigo 10° \n",
            "Toda a pessoa tem direito, em plena igualdade, a que a sua causa seja equitativa e publicamente julgada por um tribunal independente e imparcial que decida dos seus direitos e obrigações ou das razões de qualquer acusação em matéria penal que contra ela seja deduzida. \n",
            "Artigo 11°\n",
            "1. Toda a pessoa acusada de um acto delituoso presume-se inocente até que a sua culpabilidade fique legalmente provada no decurso de um processo público em que todas as garantias necessárias de defesa lhe sejam asseguradas. \n",
            "2. Ninguém será condenado por acções ou omissões que, no momento da sua prática, não constituíam acto delituoso à face do direito interno ou internacional. Do mesmo modo, não será infligida pena mais grave do que a que era aplicável no momento em que o acto delituoso foi cometido. \n",
            "Artigo 12° \n",
            "Ninguém sofrerá intromissões arbitrárias na sua vida privada, na sua família, no seu domicílio ou na sua correspondência, nem ataques à sua honra e reputação. Contra tais intromissões ou ataques toda a pessoa tem direito a protecção da lei. \n",
            "Artigo 13° \n",
            "1. Toda a pessoa tem o direito de livremente circular e escolher a sua residência no interior de um Estado. \n",
            "2. Toda a pessoa tem o direito de abandonar o país em que se encontra, incluindo o seu, e o direito de regressar ao seu país. \n",
            "Artigo 14° \n",
            "1. Toda a pessoa sujeita a perseguição tem o direito de procurar e de beneficiar de asilo em outros países. \n",
            "2. Este direito não pode, porém, ser invocado no caso de processo realmente existente por crime de direito comum ou por actividades contrárias aos fins e aos princípios das Nações Unidas. \n",
            "Artigo 15° \n",
            "1. Todo o indivíduo tem direito a ter uma nacionalidade. \n",
            "2. Ninguém pode ser arbitrariamente privado da sua nacionalidade nem do direito de mudar de nacionalidade. \n",
            "Artigo 16° \n",
            "1. A partir da idade núbil, o homem e a mulher têm o direito de casar e de constituir família, sem restrição alguma de raça, nacionalidade ou religião. Durante o casamento e na altura da sua dissolução, ambos têm direitos iguais. \n",
            "2. O casamento não pode ser celebrado sem o livre e pleno consentimento dos futuros esposos. \n",
            "3. A família é o elemento natural e fundamental da sociedade e tem direito à proteção desta e do Estado. \n",
            "Artigo 17° \n",
            "1. Toda a pessoa, individual ou colectiva, tem direito à propriedade. \n",
            "2. Ninguém pode ser arbitrariamente privado da sua propriedade. \n",
            "Artigo 18°\n",
            "Toda a pessoa tem direito à liberdade de pensamento, de consciência e de religião; este direito implica a liberdade de mudar de religião ou de convicção, assim como a liberdade de manifestar a religião ou convicção, sozinho ou em comum, tanto em público como em privado, pelo ensino, pela prática, pelo culto e pelos ritos. \n",
            "Artigo 19°\n",
            "Todo o indivíduo tem direito à liberdade de opinião e de expressão, o que implica o direito de não ser inquietado pelas suas opiniões e o de procurar, receber e difundir, sem consideração de fronteiras, informações e idéias por qualquer meio de expressão. \n",
            "Artigo 20°\n",
            "1. Toda a pessoa tem direito à liberdade de reunião e de associação pacíficas. \n",
            "2. Ninguém pode ser obrigado a fazer parte de uma associação. \n",
            "Artigo 21° \n",
            "1. Toda a pessoa tem o direito de tomar parte na direcção dos negócios, públicos do seu país, quer directamente, quer por intermédio de representantes livremente escolhidos. \n",
            "2. Toda a pessoa tem direito de acesso, em condições de igualdade, às funções públicas do seu país. \n",
            "3. A vontade do povo é o fundamento da autoridade dos poderes públicos: e deve exprimir-se através de eleições honestas a realizar periodicamente por sufrágio universal e igual, com voto secreto ou segundo processo equivalente que salvaguarde a liberdade de voto. \n",
            "Artigo 22° \n",
            "Toda a pessoa, como membro da sociedade, tem direito à segurança social; e pode legitimamente exigir a satisfação dos direitos econômicos, sociais e culturais indispensáveis, graças ao esforço nacional e à cooperação internacional, de harmonia com a organização e os recursos de cada país. \n",
            "Artigo 23°\n",
            "1. Toda a pessoa tem direito ao trabalho, à livre escolha do trabalho, a condições equitativas e satisfatórias de trabalho e à protecção contra o desemprego. \n",
            "2. Todos têm direito, sem discriminação alguma, a salário igual por trabalho igual. \n",
            "3. Quem trabalha tem direito a uma remuneração equitativa e satisfatória, que lhe permita e à sua família uma existência conforme com a dignidade humana, e completada, se possível, por todos os outros meios de protecção social. \n",
            "4. Toda a pessoa tem o direito de fundar com outras pessoas sindicatos e de se filiar em sindicatos para defesa dos seus interesses. \n",
            "Artigo 24°\n",
            "Toda a pessoa tem direito ao repouso e aos lazeres, especialmente, a uma limitação razoável da duração do trabalho e as férias periódicas pagas. \n",
            "Artigo 25°\n",
            "1. Toda a pessoa tem direito a um nível de vida suficiente para lhe assegurar e à sua família a saúde e o bem-estar, principalmente quanto à alimentação, ao vestuário, ao alojamento, à assistência médica e ainda quanto aos serviços sociais necessários, e tem direito à segurança no desemprego, na doença, na invalidez, na viuvez, na velhice ou noutros casos de perda de meios de subsistência por circunstâncias independentes da sua vontade. \n",
            "2. A maternidade e a infância têm direito a ajuda e a assistência especiais. Todas as crianças, nascidas dentro ou fora do matrimônio, gozam da mesma protecção social. \n",
            "Artigo 26° \n",
            "1. Toda a pessoa tem direito à educação. A educação deve ser gratuita, pelo menos a correspondente ao ensino elementar fundamental. O ensino elementar é obrigatório. O ensino técnico e profissional dever ser generalizado; o acesso aos estudos superiores deve estar aberto a todos em plena igualdade, em função do seu mérito. \n",
            "2. A educação deve visar à plena expansão da personalidade humana e ao reforço dos direitos do Homem e das liberdades fundamentais e deve favorecer a compreensão, a tolerância e a amizade entre todas as nações e todos os grupos raciais ou religiosos, bem como o desenvolvimento das actividades das Nações Unidas para a manutenção da paz. \n",
            "3. Aos pais pertence a prioridade do direito de escholher o género de e\n"
          ]
        }
      ]
    },
    {
      "cell_type": "markdown",
      "source": [
        "Now, we can construct a dictionary to a model that will see the probabilities of each sentence comparing It with the sentence of the entry to try to detect the language, but seeing only the ngrams in a range from 1 to 3:"
      ],
      "metadata": {
        "id": "aKphCN7fJ7P4"
      }
    },
    {
      "cell_type": "code",
      "source": [
        "models = {language: prob_model(sentence=text_of_languages[language], n=range(1,4)) for language in languages}"
      ],
      "metadata": {
        "id": "BhhfwdwgJvXh"
      },
      "execution_count": 40,
      "outputs": []
    },
    {
      "cell_type": "code",
      "source": [
        "models['portuguese']"
      ],
      "metadata": {
        "colab": {
          "base_uri": "https://localhost:8080/"
        },
        "id": "ECdhI42hLKpG",
        "outputId": "b39b05ab-45f7-43fd-c262-7465082c762b"
      },
      "execution_count": 41,
      "outputs": [
        {
          "output_type": "execute_result",
          "data": {
            "text/plain": [
              "Counter({'D': 0.0003000600120024005,\n",
              "         'e': 0.03267320130692805,\n",
              "         'c': 0.008168300326732013,\n",
              "         'l': 0.007268120290724812,\n",
              "         'a': 0.028739081149563247,\n",
              "         'r': 0.017536840701473627,\n",
              "         'ç': 0.0027338801093552043,\n",
              "         'ã': 0.0025671801026872043,\n",
              "         'o': 0.028639061145562444,\n",
              "         ' ': 0.054144162165766486,\n",
              "         'U': 0.00020004000800160032,\n",
              "         'n': 0.01313596052543842,\n",
              "         'i': 0.021204240848169634,\n",
              "         'v': 0.003133960125358405,\n",
              "         's': 0.021270920850836834,\n",
              "         'd': 0.017836900713476028,\n",
              "         't': 0.013636060545442422,\n",
              "         'H': 0.0003334000133360005,\n",
              "         'u': 0.009501900380076015,\n",
              "         'm': 0.010068680402747216,\n",
              "         '\\n': 0.002633860105354404,\n",
              "         'P': 3.3340001333600056e-05,\n",
              "         'â': 0.00016670000666800026,\n",
              "         'b': 0.002000400080016003,\n",
              "         'C': 0.0003334000133360005,\n",
              "         'q': 0.0016336600653464027,\n",
              "         'h': 0.001233580049343202,\n",
              "         'g': 0.0034340201373608053,\n",
              "         'f': 0.0020670800826832034,\n",
              "         'í': 0.0010668800426752018,\n",
              "         'á': 0.000666800026672001,\n",
              "         ',': 0.003700740148029606,\n",
              "         'j': 0.0005667800226712009,\n",
              "         'p': 0.006834700273388011,\n",
              "         'z': 0.000633460025338401,\n",
              "         ';': 0.0003334000133360005,\n",
              "         'ê': 0.0005334400213376009,\n",
              "         'é': 0.0010335400413416017,\n",
              "         'à': 0.0007668200306728012,\n",
              "         'õ': 0.0007668200306728012,\n",
              "         'N': 0.00040008001600320064,\n",
              "         'E': 0.00016670000666800026,\n",
              "         'O': 0.00013336000533440022,\n",
              "         ':': 6.668000266720011e-05,\n",
              "         'A': 0.001200240048009602,\n",
              "         'G': 3.3340001333600056e-05,\n",
              "         '-': 0.00013336000533440022,\n",
              "         'ó': 0.0003000600120024005,\n",
              "         '.': 0.002633860105354404,\n",
              "         '1': 0.0008001600320064013,\n",
              "         '°': 0.0008668400346736014,\n",
              "         'T': 0.0009001800360072014,\n",
              "         '2': 0.0007001400280056011,\n",
              "         'x': 0.0003000600120024005,\n",
              "         'ô': 0.00010002000400080016,\n",
              "         '3': 0.00023338000933520038,\n",
              "         '4': 0.00013336000533440022,\n",
              "         '5': 0.00010002000400080016,\n",
              "         '6': 0.00010002000400080016,\n",
              "         '7': 6.668000266720011e-05,\n",
              "         '8': 6.668000266720011e-05,\n",
              "         '9': 6.668000266720011e-05,\n",
              "         '0': 6.668000266720011e-05,\n",
              "         'ú': 0.00023338000933520038,\n",
              "         'Q': 3.3340001333600056e-05,\n",
              "         'De': 0.00013336000533440022,\n",
              "         'ec': 0.001333600053344002,\n",
              "         'cl': 0.0003334000133360005,\n",
              "         'la': 0.0007668200306728012,\n",
              "         'ar': 0.0018003600720144029,\n",
              "         'ra': 0.003100620124024805,\n",
              "         'aç': 0.0014669600586784024,\n",
              "         'çã': 0.0017336800693472027,\n",
              "         'ão': 0.0025671801026872043,\n",
              "         'o ': 0.010435420417416817,\n",
              "         ' U': 0.00020004000800160032,\n",
              "         'Un': 0.00020004000800160032,\n",
              "         'ni': 0.0009335200373408015,\n",
              "         'iv': 0.0010668800426752018,\n",
              "         've': 0.0008668400346736014,\n",
              "         'er': 0.0035673801426952057,\n",
              "         'rs': 0.00040008001600320064,\n",
              "         'sa': 0.0008001600320064013,\n",
              "         'al': 0.002667200106688004,\n",
              "         'l ': 0.0009335200373408015,\n",
              "         ' d': 0.008535040341401614,\n",
              "         'do': 0.0033006601320264054,\n",
              "         'os': 0.0045675801827032075,\n",
              "         's ': 0.008068280322731212,\n",
              "         ' D': 0.00026672001066880045,\n",
              "         'Di': 6.668000266720011e-05,\n",
              "         'ir': 0.0023338000933520037,\n",
              "         're': 0.004500900180036007,\n",
              "         'ei': 0.0023671400946856038,\n",
              "         'it': 0.002933920117356805,\n",
              "         'to': 0.003967460158698407,\n",
              "         ' H': 0.0003334000133360005,\n",
              "         'Hu': 0.00010002000400080016,\n",
              "         'um': 0.0011669000466760018,\n",
              "         'ma': 0.0014002800560112022,\n",
              "         'an': 0.0013669400546776022,\n",
              "         'no': 0.0010335400413416017,\n",
              "         's\\n': 3.3340001333600056e-05,\n",
              "         '\\nP': 3.3340001333600056e-05,\n",
              "         'Pr': 3.3340001333600056e-05,\n",
              "         'eâ': 3.3340001333600056e-05,\n",
              "         'âm': 3.3340001333600056e-05,\n",
              "         'mb': 0.00023338000933520038,\n",
              "         'bu': 6.668000266720011e-05,\n",
              "         'ul': 0.0003000600120024005,\n",
              "         'lo': 0.0003334000133360005,\n",
              "         'o\\n': 3.3340001333600056e-05,\n",
              "         '\\nC': 0.00023338000933520038,\n",
              "         'Co': 0.0003000600120024005,\n",
              "         'on': 0.0021671000866840037,\n",
              "         'ns': 0.0010668800426752018,\n",
              "         'si': 0.0008001600320064013,\n",
              "         'id': 0.001867040074681603,\n",
              "         'de': 0.00620124024804961,\n",
              "         'nd': 0.0015669800626792025,\n",
              "         ' q': 0.001200240048009602,\n",
              "         'qu': 0.0016336600653464027,\n",
              "         'ue': 0.001266920050676802,\n",
              "         'e ': 0.009301860372074415,\n",
              "         ' o': 0.0033340001333600055,\n",
              "         ' r': 0.001300260052010402,\n",
              "         'co': 0.002500500100020004,\n",
              "         'nh': 0.00023338000933520038,\n",
              "         'he': 0.00040008001600320064,\n",
              "         'ci': 0.0020337400813496033,\n",
              "         'im': 0.0008335000333400014,\n",
              "         'me': 0.002400480096019204,\n",
              "         'en': 0.0034340201373608053,\n",
              "         'nt': 0.0032673201306928053,\n",
              "         'da': 0.0047342801893712075,\n",
              "         'a ': 0.009268520370740815,\n",
              "         'di': 0.0030006001200240046,\n",
              "         'ig': 0.001833700073348003,\n",
              "         'gn': 0.00013336000533440022,\n",
              "         'ad': 0.002500500100020004,\n",
              "         ' i': 0.0018003600720144029,\n",
              "         'in': 0.0021671000866840037,\n",
              "         'ne': 0.0004334200173368007,\n",
              "         'te': 0.0030339401213576047,\n",
              "         ' a': 0.005267720210708808,\n",
              "         ' t': 0.0022671200906848035,\n",
              "         'od': 0.0017003400680136026,\n",
              "         ' m': 0.0011335600453424017,\n",
              "         'em': 0.0028339001133560046,\n",
              "         'br': 0.00026672001066880045,\n",
              "         'ro': 0.0014669600586784024,\n",
              "         ' f': 0.001266920050676802,\n",
              "         'fa': 0.0005001000200040008,\n",
              "         'am': 0.0015003000600120023,\n",
              "         'mí': 0.00020004000800160032,\n",
              "         'íl': 0.00023338000933520038,\n",
              "         'li': 0.0021671000866840037,\n",
              "         'ia': 0.0018003600720144029,\n",
              "         ' h': 0.00040008001600320064,\n",
              "         'hu': 0.00026672001066880045,\n",
              "         'na': 0.0022337800893512034,\n",
              "         ' e': 0.005334400213376008,\n",
              "         ' s': 0.0036007201440288058,\n",
              "         'se': 0.002500500100020004,\n",
              "         'eu': 0.0003667400146696006,\n",
              "         'us': 0.00026672001066880045,\n",
              "         'gu': 0.0011335600453424017,\n",
              "         'ua': 0.0014336200573448023,\n",
              "         'ai': 0.0007334800293392012,\n",
              "         'is': 0.0017336800693472027,\n",
              "         'ie': 0.0003000600120024005,\n",
              "         'ná': 3.3340001333600056e-05,\n",
              "         'áv': 0.00013336000533440022,\n",
              "         ' c': 0.002400480096019204,\n",
              "         'st': 0.0011002200440088017,\n",
              "         'ti': 0.0020337400813496033,\n",
              "         'tu': 0.0007334800293392012,\n",
              "         'ui': 0.0003667400146696006,\n",
              "         'i ': 0.00013336000533440022,\n",
              "         'fu': 0.00046676001867040077,\n",
              "         'un': 0.0008335000333400014,\n",
              "         ' l': 0.0011669000466760018,\n",
              "         'ib': 0.0005667800226712009,\n",
              "         'be': 0.0007001400280056011,\n",
              "         'rd': 0.0005667800226712009,\n",
              "         'e,': 0.0004334200173368007,\n",
              "         ', ': 0.003700740148029606,\n",
              "         ' j': 0.00020004000800160032,\n",
              "         'ju': 0.00023338000933520038,\n",
              "         'iç': 0.0003667400146696006,\n",
              "         'ça': 0.0003000600120024005,\n",
              "         ' p': 0.005034340201373608,\n",
              "         'pa': 0.0009001800360072014,\n",
              "         'az': 0.00023338000933520038,\n",
              "         'z ': 3.3340001333600056e-05,\n",
              "         ' n': 0.002000400080016003,\n",
              "         'mu': 0.0003667400146696006,\n",
              "         'o;': 0.00016670000666800026,\n",
              "         '; ': 0.0003334000133360005,\n",
              "         ' \\n': 0.0022004400880176033,\n",
              "         'es': 0.004667600186704007,\n",
              "         'sc': 0.0005667800226712009,\n",
              "         'sp': 0.00040008001600320064,\n",
              "         'pr': 0.001867040074681603,\n",
              "         'ez': 0.00010002000400080016,\n",
              "         'zo': 6.668000266720011e-05,\n",
              "         'Ho': 0.00023338000933520038,\n",
              "         'om': 0.0015336400613456024,\n",
              "         'n ': 3.3340001333600056e-05,\n",
              "         'du': 0.0004334200173368007,\n",
              "         'uz': 6.668000266720011e-05,\n",
              "         'zi': 0.00010002000400080016,\n",
              "         'm ': 0.0036007201440288058,\n",
              "         'ac': 0.0009001800360072014,\n",
              "         'ct': 0.00040008001600320064,\n",
              "         ' b': 0.00013336000533440022,\n",
              "         'ba': 0.00026672001066880045,\n",
              "         'rb': 0.00016670000666800026,\n",
              "         'bá': 3.3340001333600056e-05,\n",
              "         'ár': 0.00023338000933520038,\n",
              "         'ri': 0.001900380076015203,\n",
              "         'ev': 0.0003000600120024005,\n",
              "         'vo': 0.0007001400280056011,\n",
              "         'ol': 0.000600120024004801,\n",
              "         'lt': 0.00023338000933520038,\n",
              "         'ta': 0.0017336800693472027,\n",
              "         'iê': 0.00010002000400080016,\n",
              "         'ên': 0.0003000600120024005,\n",
              "         'nc': 0.0007668200306728012,\n",
              "         'dv': 3.3340001333600056e-05,\n",
              "         ' u': 0.000600120024004801,\n",
              "         'ej': 0.00020004000800160032,\n",
              "         'ja': 0.00026672001066880045,\n",
              "         'vr': 0.00020004000800160032,\n",
              "         'r ': 0.0023671400946856038,\n",
              "         'cr': 0.0003667400146696006,\n",
              "         'r,': 0.00023338000933520038,\n",
              "         'rt': 0.001200240048009602,\n",
              "         'rr': 0.00020004000800160032,\n",
              "         'or': 0.0014002800560112022,\n",
              "         'mi': 0.0005334400213376009,\n",
              "         'sé': 3.3340001333600056e-05,\n",
              "         'ér': 0.00013336000533440022,\n",
              "         'a,': 0.0009668600386744015,\n",
              "         'fo': 0.0003334000133360005,\n",
              "         'oi': 0.00010002000400080016,\n",
              "         'oc': 0.0008335000333400014,\n",
              "         'mo': 0.0005334400213376009,\n",
              "         'pi': 0.00016670000666800026,\n",
              "         'm;': 3.3340001333600056e-05,\n",
              "         ' é': 0.00020004000800160032,\n",
              "         'é ': 0.00026672001066880045,\n",
              "         'ss': 0.001867040074681603,\n",
              "         'ot': 0.0003667400146696006,\n",
              "         'eç': 6.668000266720011e-05,\n",
              "         'at': 0.0010002000400080016,\n",
              "         'tr': 0.0013669400546776022,\n",
              "         'av': 0.00026672001066880045,\n",
              "         'vé': 6.668000266720011e-05,\n",
              "         'és': 6.668000266720011e-05,\n",
              "         'eg': 0.0005001000200040008,\n",
              "         'gi': 0.0004334200173368007,\n",
              "         'o,': 0.0011002200440088017,\n",
              "         'nã': 0.00023338000933520038,\n",
              "         'mp': 0.0004334200173368007,\n",
              "         'pe': 0.001933720077348803,\n",
              "         'el': 0.0011335600453424017,\n",
              "         'su': 0.0009668600386744015,\n",
              "         'up': 0.00010002000400080016,\n",
              "         'cu': 0.0004334200173368007,\n",
              "         'ur': 0.0008668400346736014,\n",
              "         'so': 0.0021671000866840037,\n",
              "         ' à': 0.0007668200306728012,\n",
              "         'à ': 0.0007334800293392012,\n",
              "         'op': 0.0003000600120024005,\n",
              "         'sã': 0.00023338000933520038,\n",
              "         'aj': 6.668000266720011e-05,\n",
              "         'nv': 0.00026672001066880045,\n",
              "         'lv': 0.00016670000666800026,\n",
              "         'vi': 0.000600120024004801,\n",
              "         'çõ': 0.000600120024004801,\n",
              "         'õe': 0.0007668200306728012,\n",
              "         'as': 0.002433820097352804,\n",
              "         's;': 6.668000266720011e-05,\n",
              "         ' C': 0.00010002000400080016,\n",
              "         'Ca': 3.3340001333600056e-05,\n",
              "         'po': 0.001233580049343202,\n",
              "         'ov': 0.00023338000933520038,\n",
              "         ' N': 0.00026672001066880045,\n",
              "         'Na': 0.00013336000533440022,\n",
              "         'm,': 0.00016670000666800026,\n",
              "         'fé': 6.668000266720011e-05,\n",
              "         ' v': 0.0005001000200040008,\n",
              "         'va': 0.0005334400213376009,\n",
              "         'oa': 0.0007334800293392012,\n",
              "         'ld': 0.00013336000533440022,\n",
              "         'ho': 0.00040008001600320064,\n",
              "         'lh': 0.0005667800226712009,\n",
              "         'ce': 0.000600120024004801,\n",
              "         'og': 6.668000266720011e-05,\n",
              "         'gr': 0.00026672001066880045,\n",
              "         'au': 0.00013336000533440022,\n",
              "         'pl': 0.0003667400146696006,\n",
              "         'a;': 3.3340001333600056e-05,\n",
              "         ' E': 0.00016670000666800026,\n",
              "         'Es': 0.00016670000666800026,\n",
              "         'et': 0.00026672001066880045,\n",
              "         'oo': 6.668000266720011e-05,\n",
              "         ' O': 0.00013336000533440022,\n",
              "         'Or': 3.3340001333600056e-05,\n",
              "         'rg': 0.00010002000400080016,\n",
              "         'ga': 0.0003334000133360005,\n",
              "         'iz': 0.00016670000666800026,\n",
              "         'za': 0.00020004000800160032,\n",
              "         's,': 0.0005001000200040008,\n",
              "         'ef': 0.00023338000933520038,\n",
              "         'fe': 0.00023338000933520038,\n",
              "         'ep': 0.00023338000933520038,\n",
              "         'pç': 3.3340001333600056e-05,\n",
              "         'tâ': 6.668000266720011e-05,\n",
              "         'ân': 0.00013336000533440022,\n",
              "         'le': 0.0007334800293392012,\n",
              "         'sf': 0.00020004000800160032,\n",
              "         'o:': 3.3340001333600056e-05,\n",
              "         ': ': 6.668000266720011e-05,\n",
              "         '\\nA': 0.0009001800360072014,\n",
              "         'A ': 0.00023338000933520038,\n",
              "         ' A': 0.0003000600120024005,\n",
              "         'As': 3.3340001333600056e-05,\n",
              "         'bl': 0.00023338000933520038,\n",
              "         'lé': 6.668000266720011e-05,\n",
              "         'éi': 0.00010002000400080016,\n",
              "         ' G': 3.3340001333600056e-05,\n",
              "         'Ge': 3.3340001333600056e-05,\n",
              "         '\\nd': 3.3340001333600056e-05,\n",
              "         '\\nc': 3.3340001333600056e-05,\n",
              "         'ea': 0.00013336000533440022,\n",
              "         'ng': 0.0003334000133360005,\n",
              "         'fi': 0.00026672001066880045,\n",
              "         'ví': 0.00016670000666800026,\n",
              "         'íd': 0.00023338000933520038,\n",
              "         'uo': 0.00026672001066880045,\n",
              "         'gã': 3.3340001333600056e-05,\n",
              "         'ed': 0.0003667400146696006,\n",
              "         'o-': 3.3340001333600056e-05,\n",
              "         '-a': 3.3340001333600056e-05,\n",
              "         'pí': 6.668000266720011e-05,\n",
              "         'ír': 6.668000266720011e-05,\n",
              "         'rc': 0.00013336000533440022,\n",
              "         'uc': 0.00013336000533440022,\n",
              "         'ca': 0.0009668600386744015,\n",
              "         'io': 0.001233580049343202,\n",
              "         'rn': 0.00023338000933520038,\n",
              "         'l,': 0.00020004000800160032,\n",
              "         'u ': 0.0011002200440088017,\n",
              "         'ap': 6.668000266720011e-05,\n",
              "         'ic': 0.0010002000400080016,\n",
              "         'pu': 0.00010002000400080016,\n",
              "         'ró': 3.3340001333600056e-05,\n",
              "         'óp': 3.3340001333600056e-05,\n",
              "         'tó': 0.00020004000800160032,\n",
              "         'ór': 0.00020004000800160032,\n",
              "         'ob': 0.00023338000933520038,\n",
              "         'b ': 0.00010002000400080016,\n",
              "         'sd': 6.668000266720011e-05,\n",
              "         'o.': 0.0005334400213376009,\n",
              "         '. ': 0.002633860105354404,\n",
              "         'Ar': 0.0008668400346736014,\n",
              "         'go': 0.0009668600386744015,\n",
              "         ' 1': 0.0003667400146696006,\n",
              "         '1°': 0.00010002000400080016,\n",
              "         '° ': 0.0005001000200040008,\n",
              "         '\\nT': 0.0003667400146696006,\n",
              "         'To': 0.0009001800360072014,\n",
              "         's.': 0.0005667800226712009,\n",
              "         'Do': 6.668000266720011e-05,\n",
              "         'zã': 3.3340001333600056e-05,\n",
              "         'ag': 0.00010002000400080016,\n",
              "         'ou': 0.0011669000466760018,\n",
              "         'ut': 0.00046676001867040077,\n",
              "         'fr': 0.00013336000533440022,\n",
              "         'e.': 0.00020004000800160032,\n",
              "         ' 2': 0.00026672001066880045,\n",
              "         '2°': 0.00010002000400080016,\n",
              "         'nç': 0.0003667400146696006,\n",
              "         'lg': 0.00016670000666800026,\n",
              "         'ex': 0.0003000600120024005,\n",
              "         'xo': 3.3340001333600056e-05,\n",
              "         'lí': 0.00010002000400080016,\n",
              "         'ín': 3.3340001333600056e-05,\n",
              "         'iã': 0.00026672001066880045,\n",
              "         'ít': 6.668000266720011e-05,\n",
              "         'ge': 6.668000266720011e-05,\n",
              "         'lq': 0.00016670000666800026,\n",
              "         'Al': 3.3340001333600056e-05,\n",
              "         'ém': 0.0003334000133360005,\n",
              "         'rá': 0.0003667400146696006,\n",
              "         'á ': 0.00020004000800160032,\n",
              "         'rí': 6.668000266720011e-05,\n",
              "         'aí': 0.00026672001066880045,\n",
              "         'ís': 0.00026672001066880045,\n",
              "         'tô': 3.3340001333600056e-05,\n",
              "         'ôn': 6.668000266720011e-05,\n",
              "         'uj': 6.668000266720011e-05,\n",
              "         'je': 6.668000266720011e-05,\n",
              "         'a.': 0.00010002000400080016,\n",
              "         ' 3': 3.3340001333600056e-05,\n",
              "         '3°': 0.00010002000400080016,\n",
              "         '°\\n': 0.0003667400146696006,\n",
              "         'l.': 0.00020004000800160032,\n",
              "         ' 4': 3.3340001333600056e-05,\n",
              "         '4°': 0.00010002000400080016,\n",
              "         '\\nN': 0.00013336000533440022,\n",
              "         'Ni': 0.00026672001066880045,\n",
              "         'ué': 0.0003000600120024005,\n",
              "         'rv': 6.668000266720011e-05,\n",
              "         'dã': 3.3340001333600056e-05,\n",
              "         'rm': 0.00020004000800160032,\n",
              "         'bi': 0.00023338000933520038,\n",
              "         ' 5': 3.3340001333600056e-05,\n",
              "         '5°': 0.00010002000400080016,\n",
              "         'ub': 0.00010002000400080016,\n",
              "         'bm': 3.3340001333600056e-05,\n",
              "         'ru': 6.668000266720011e-05,\n",
              "         ' 6': 3.3340001333600056e-05,\n",
              "         '6°': 0.00010002000400080016,\n",
              "         'tê': 0.0003667400146696006,\n",
              "         'êm': 0.00023338000933520038,\n",
              "         'ao': 0.00046676001867040077,\n",
              "         'lu': 0.00010002000400080016,\n",
              "         'ug': 3.3340001333600056e-05,\n",
              "         ' 7': 3.3340001333600056e-05,\n",
              "         '7°': 6.668000266720011e-05,\n",
              "         'cç': 0.0003334000133360005,\n",
              "         'i.': 0.00010002000400080016,\n",
              "         ' T': 0.0005334400213376009,\n",
              "         ' 8': 3.3340001333600056e-05,\n",
              "         '8°': 6.668000266720011e-05,\n",
              "         ' 9': 3.3340001333600056e-05,\n",
              "         '9°': 6.668000266720011e-05,\n",
              "         'xi': 0.00013336000533440022,\n",
              "         'il': 0.00016670000666800026,\n",
              "         '10': 3.3340001333600056e-05,\n",
              "         '0°': 6.668000266720011e-05,\n",
              "         'eq': 0.00013336000533440022,\n",
              "         'zõ': 3.3340001333600056e-05,\n",
              "         'té': 0.00010002000400080016,\n",
              "         '11': 3.3340001333600056e-05,\n",
              "         '\\n1': 0.0003667400146696006,\n",
              "         '1.': 0.0003667400146696006,\n",
              "         'e-': 3.3340001333600056e-05,\n",
              "         '-s': 6.668000266720011e-05,\n",
              "         'lp': 3.3340001333600056e-05,\n",
              "         'ab': 0.0003000600120024005,\n",
              "         'iq': 3.3340001333600056e-05,\n",
              "         'lm': 0.00013336000533440022,\n",
              "         'pú': 0.00016670000666800026,\n",
              "         'úb': 0.00020004000800160032,\n",
              "         ' g': 0.00026672001066880045,\n",
              "         'sá': 0.00010002000400080016,\n",
              "         '\\n2': 0.0003667400146696006,\n",
              "         '2.': 0.0003667400146696006,\n",
              "         'sõ': 0.00010002000400080016,\n",
              "         'át': 6.668000266720011e-05,\n",
              "         'uí': 3.3340001333600056e-05,\n",
              "         'ía': 3.3340001333600056e-05,\n",
              "         'sm': 6.668000266720011e-05,\n",
              "         'nf': 0.00013336000533440022,\n",
              "         'fl': 3.3340001333600056e-05,\n",
              "         'cá': 3.3340001333600056e-05,\n",
              "         '12': 3.3340001333600056e-05,\n",
              "         'of': 6.668000266720011e-05,\n",
              "         'cí': 0.00010002000400080016,\n",
              "         'dê': 6.668000266720011e-05,\n",
              "         'aq': 6.668000266720011e-05,\n",
              "         'nr': 3.3340001333600056e-05,\n",
              "         '13': 3.3340001333600056e-05,\n",
              "         'u,': 3.3340001333600056e-05,\n",
              "         '14': 3.3340001333600056e-05,\n",
              "         'ré': 3.3340001333600056e-05,\n",
              "         'íp': 3.3340001333600056e-05,\n",
              "         '15': 3.3340001333600056e-05,\n",
              "         'ud': 0.00013336000533440022,\n",
              "         '16': 3.3340001333600056e-05,\n",
              "         'nú': 3.3340001333600056e-05,\n",
              "         'Du': 3.3340001333600056e-05,\n",
              "         'uç': 3.3340001333600056e-05,\n",
              "         'bo': 3.3340001333600056e-05,\n",
              "         'O ': 0.00010002000400080016,\n",
              "         'eb': 6.668000266720011e-05,\n",
              "         '\\n3': 0.00013336000533440022,\n",
              "         '3.': 0.00013336000533440022,\n",
              "         '17': 3.3340001333600056e-05,\n",
              "         '18': 3.3340001333600056e-05,\n",
              "         'if': 6.668000266720011e-05,\n",
              "         'oz': 6.668000266720011e-05,\n",
              "         '19': 3.3340001333600056e-05,\n",
              "         'xp': 0.00013336000533440022,\n",
              "         'nq': 3.3340001333600056e-05,\n",
              "         'iõ': 3.3340001333600056e-05,\n",
              "         'dé': 3.3340001333600056e-05,\n",
              "         '20': 3.3340001333600056e-05,\n",
              "         'íf': 3.3340001333600056e-05,\n",
              "         'ze': 6.668000266720011e-05,\n",
              "         '21': 3.3340001333600056e-05,\n",
              "         'gó': 3.3340001333600056e-05,\n",
              "         'óc': 3.3340001333600056e-05,\n",
              "         'mé': 0.00010002000400080016,\n",
              "         'éd': 6.668000266720011e-05,\n",
              "         'hi': 6.668000266720011e-05,\n",
              "         'às': 3.3340001333600056e-05,\n",
              "         's:': 3.3340001333600056e-05,\n",
              "         'r-': 3.3340001333600056e-05,\n",
              "         'uf': 6.668000266720011e-05,\n",
              "         'ág': 3.3340001333600056e-05,\n",
              "         '22': 3.3340001333600056e-05,\n",
              "         'l;': 3.3340001333600056e-05,\n",
              "         'nô': 3.3340001333600056e-05,\n",
              "         'ôm': 3.3340001333600056e-05,\n",
              "         'rç': 6.668000266720011e-05,\n",
              "         'ço': 0.00010002000400080016,\n",
              "         'ha': 0.00010002000400080016,\n",
              "         '23': 3.3340001333600056e-05,\n",
              "         'lá': 3.3340001333600056e-05,\n",
              "         ' Q': 3.3340001333600056e-05,\n",
              "         'Qu': 3.3340001333600056e-05,\n",
              "         'sí': 3.3340001333600056e-05,\n",
              "         'ív': 6.668000266720011e-05,\n",
              "         '\\n4': 3.3340001333600056e-05,\n",
              "         '4.': 3.3340001333600056e-05,\n",
              "         '24': 3.3340001333600056e-05,\n",
              "         'oá': 3.3340001333600056e-05,\n",
              "         'ió': 3.3340001333600056e-05,\n",
              "         'ód': 3.3340001333600056e-05,\n",
              "         '25': 3.3340001333600056e-05,\n",
              "         'ní': 3.3340001333600056e-05,\n",
              "         'aú': 3.3340001333600056e-05,\n",
              "         'úd': 3.3340001333600056e-05,\n",
              "         'm-': 3.3340001333600056e-05,\n",
              "         '-e': 3.3340001333600056e-05,\n",
              "         'ip': 3.3340001333600056e-05,\n",
              "         'uá': 3.3340001333600056e-05,\n",
              "         'oj': 3.3340001333600056e-05,\n",
              "         'oe': 3.3340001333600056e-05,\n",
              "         'z,': 6.668000266720011e-05,\n",
              "         'iu': 3.3340001333600056e-05,\n",
              "         'uv': 3.3340001333600056e-05,\n",
              "         'bs': 3.3340001333600056e-05,\n",
              "         'fâ': 3.3340001333600056e-05,\n",
              "         'mô': 3.3340001333600056e-05,\n",
              "         '26': 3.3340001333600056e-05,\n",
              "         'éc': 3.3340001333600056e-05,\n",
              "         'cn': 3.3340001333600056e-05,\n",
              "         'ee': 3.3340001333600056e-05,\n",
              "         'râ': 3.3340001333600056e-05,\n",
              "         'nu': 3.3340001333600056e-05,\n",
              "         'z.': 3.3340001333600056e-05,\n",
              "         'Ao': 3.3340001333600056e-05,\n",
              "         'ch': 3.3340001333600056e-05,\n",
              "         'gé': 3.3340001333600056e-05,\n",
              "         'én': 3.3340001333600056e-05,\n",
              "         'Dec': 0.00013336000533440022,\n",
              "         'ecl': 0.00016670000666800026,\n",
              "         'cla': 0.0003000600120024005,\n",
              "         'lar': 0.00023338000933520038,\n",
              "         'ara': 0.0004334200173368007,\n",
              "         'raç': 0.0004334200173368007,\n",
              "         'açã': 0.0010002000400080016,\n",
              "         'ção': 0.0017336800693472027,\n",
              "         'ão ': 0.001833700073348003,\n",
              "         'o U': 6.668000266720011e-05,\n",
              "         ' Un': 0.00020004000800160032,\n",
              "         'Uni': 0.00020004000800160032,\n",
              "         'niv': 0.00016670000666800026,\n",
              "         'ive': 0.00016670000666800026,\n",
              "         'ver': 0.0003000600120024005,\n",
              "         'ers': 0.00026672001066880045,\n",
              "         'rsa': 0.00016670000666800026,\n",
              "         'sal': 0.00020004000800160032,\n",
              "         'al ': 0.0008335000333400014,\n",
              "         'l d': 0.00023338000933520038,\n",
              "         ' do': 0.001300260052010402,\n",
              "         'dos': 0.0013669400546776022,\n",
              "         'os ': 0.003934120157364806,\n",
              "         's D': 6.668000266720011e-05,\n",
              "         ' Di': 6.668000266720011e-05,\n",
              "         'Dir': 6.668000266720011e-05,\n",
              "         'ire': 0.001900380076015203,\n",
              "         'rei': 0.001833700073348003,\n",
              "         'eit': 0.002000400080016003,\n",
              "         'ito': 0.0020670800826832034,\n",
              "         'tos': 0.0008335000333400014,\n",
              "         's H': 6.668000266720011e-05,\n",
              "         ' Hu': 0.00010002000400080016,\n",
              "         'Hum': 0.00010002000400080016,\n",
              "         'uma': 0.0007668200306728012,\n",
              "         'man': 0.00046676001867040077,\n",
              "         'ano': 0.00020004000800160032,\n",
              "         'nos': 0.00026672001066880045,\n",
              "         'os\\n': 3.3340001333600056e-05,\n",
              "         's\\nP': 3.3340001333600056e-05,\n",
              "         '\\nPr': 3.3340001333600056e-05,\n",
              "         'Pre': 3.3340001333600056e-05,\n",
              "         'reâ': 3.3340001333600056e-05,\n",
              "         'eâm': 3.3340001333600056e-05,\n",
              "         'âmb': 3.3340001333600056e-05,\n",
              "         'mbu': 3.3340001333600056e-05,\n",
              "         'bul': 3.3340001333600056e-05,\n",
              "         'ulo': 3.3340001333600056e-05,\n",
              "         'lo\\n': 3.3340001333600056e-05,\n",
              "         'o\\nC': 3.3340001333600056e-05,\n",
              "         '\\nCo': 0.00023338000933520038,\n",
              "         'Con': 0.0003000600120024005,\n",
              "         'ons': 0.0005667800226712009,\n",
              "         'nsi': 0.0004334200173368007,\n",
              "         'sid': 0.0003000600120024005,\n",
              "         'ide': 0.0003334000133360005,\n",
              "         'der': 0.0003000600120024005,\n",
              "         'era': 0.0005667800226712009,\n",
              "         'ran': 0.0005001000200040008,\n",
              "         'and': 0.00026672001066880045,\n",
              "         'ndo': 0.0004334200173368007,\n",
              "         'do ': 0.0015003000600120023,\n",
              "         'o q': 0.0003334000133360005,\n",
              "         ' qu': 0.001200240048009602,\n",
              "         'que': 0.001233580049343202,\n",
              "         'ue ': 0.0008668400346736014,\n",
              "         'e o': 0.0007001400280056011,\n",
              "         ' o ': 0.001233580049343202,\n",
              "         'o r': 0.0003000600120024005,\n",
              "         ' re': 0.0010668800426752018,\n",
              "         'rec': 0.00040008001600320064,\n",
              "         'eco': 0.00016670000666800026,\n",
              "         'con': 0.0010668800426752018,\n",
              "         'onh': 0.00016670000666800026,\n",
              "         'nhe': 0.00016670000666800026,\n",
              "         'hec': 0.00016670000666800026,\n",
              "         'eci': 0.00026672001066880045,\n",
              "         'cim': 0.00016670000666800026,\n",
              "         'ime': 0.0003667400146696006,\n",
              "         'men': 0.0015336400613456024,\n",
              "         'ent': 0.0021671000866840037,\n",
              "         'nto': 0.0008001600320064013,\n",
              "         'to ': 0.0022671200906848035,\n",
              "         'o d': 0.002433820097352804,\n",
              "         ' da': 0.001266920050676802,\n",
              "         'da ': 0.001967060078682403,\n",
              "         'a d': 0.0007334800293392012,\n",
              "         ' di': 0.0022671200906848035,\n",
              "         'dig': 0.00013336000533440022,\n",
              "         'ign': 0.00013336000533440022,\n",
              "         'gni': 0.00013336000533440022,\n",
              "         'nid': 0.0003667400146696006,\n",
              "         'ida': 0.0011002200440088017,\n",
              "         'dad': 0.0014669600586784024,\n",
              "         'ade': 0.0015336400613456024,\n",
              "         'de ': 0.003800760152030406,\n",
              "         'e i': 0.0003334000133360005,\n",
              "         ' in': 0.0011335600453424017,\n",
              "         'ine': 3.3340001333600056e-05,\n",
              "         'ner': 0.00013336000533440022,\n",
              "         'ere': 0.00026672001066880045,\n",
              "         'ren': 3.3340001333600056e-05,\n",
              "         'nte': 0.0014002800560112022,\n",
              "         'te ': 0.0009668600386744015,\n",
              "         'e a': 0.0010668800426752018,\n",
              "         ' a ': 0.002667200106688004,\n",
              "         'a t': 0.0008001600320064013,\n",
              "         ' to': 0.0005334400213376009,\n",
              "         'tod': 0.0004334200173368007,\n",
              "         'odo': 0.000600120024004801,\n",
              "         's o': 0.0007334800293392012,\n",
              "         ' os': 0.000600120024004801,\n",
              "         's m': 0.00016670000666800026,\n",
              "         ' me': 0.00040008001600320064,\n",
              "         'mem': 0.0003667400146696006,\n",
              "         'emb': 0.00016670000666800026,\n",
              "         'mbr': 0.00013336000533440022,\n",
              "         'bro': 0.00013336000533440022,\n",
              "         'ros': 0.00026672001066880045,\n",
              "         's d': 0.0015336400613456024,\n",
              "         'a f': 0.00026672001066880045,\n",
              "         ' fa': 0.0003667400146696006,\n",
              "         'fam': 0.00020004000800160032,\n",
              "         'amí': 0.00020004000800160032,\n",
              "         'míl': 0.00020004000800160032,\n",
              "         'íli': 0.00023338000933520038,\n",
              "         'lia': 0.00023338000933520038,\n",
              "         'ia ': 0.000600120024004801,\n",
              "         'a h': 0.00010002000400080016,\n",
              "         ' hu': 0.00023338000933520038,\n",
              "         'hum': 0.00026672001066880045,\n",
              "         'ana': 0.00013336000533440022,\n",
              "         'na ': 0.000666800026672001,\n",
              "         'a e': 0.0007334800293392012,\n",
              "         ' e ': 0.002600520104020804,\n",
              "         'e d': 0.0014336200573448023,\n",
              "         's s': 0.0005001000200040008,\n",
              "         ' se': 0.0017670200706808028,\n",
              "         'seu': 0.0003334000133360005,\n",
              "         'eus': 0.00010002000400080016,\n",
              "         'us ': 0.00010002000400080016,\n",
              "         'dir': 0.001867040074681603,\n",
              "         's i': 0.00026672001066880045,\n",
              "         ' ig': 0.0004334200173368007,\n",
              "         'igu': 0.0004334200173368007,\n",
              "         'gua': 0.0005001000200040008,\n",
              "         'uai': 0.00013336000533440022,\n",
              "         'ais': 0.0007001400280056011,\n",
              "         'is ': 0.000633460025338401,\n",
              "         's e': 0.0010002000400080016,\n",
              "         'ina': 0.00013336000533440022,\n",
              "         'nal': 0.0005667800226712009,\n",
              "         'ali': 0.00040008001600320064,\n",
              "         'lie': 3.3340001333600056e-05,\n",
              "         'ien': 6.668000266720011e-05,\n",
              "         'ená': 3.3340001333600056e-05,\n",
              "         'náv': 3.3340001333600056e-05,\n",
              "         'áve': 0.00013336000533440022,\n",
              "         'vei': 6.668000266720011e-05,\n",
              "         'eis': 6.668000266720011e-05,\n",
              "         's c': 0.0003334000133360005,\n",
              "         ' co': 0.001833700073348003,\n",
              "         'nst': 0.00023338000933520038,\n",
              "         'sti': 0.00026672001066880045,\n",
              "         'tit': 0.00013336000533440022,\n",
              "         'itu': 0.00026672001066880045,\n",
              "         'tui': 0.00013336000533440022,\n",
              "         'ui ': 3.3340001333600056e-05,\n",
              "         'i o': 3.3340001333600056e-05,\n",
              "         'o f': 0.00013336000533440022,\n",
              "         ' fu': 0.0004334200173368007,\n",
              "         'fun': 0.0004334200173368007,\n",
              "         'und': 0.00046676001867040077,\n",
              "         'nda': 0.0003667400146696006,\n",
              "         'dam': 0.0003000600120024005,\n",
              "         'ame': 0.0007334800293392012,\n",
              "         'a l': 0.0004334200173368007,\n",
              "         ' li': 0.0007668200306728012,\n",
              "         'lib': 0.0005001000200040008,\n",
              "         'ibe': 0.0005001000200040008,\n",
              "         'ber': 0.000600120024004801,\n",
              "         'erd': 0.0005001000200040008,\n",
              "         'rda': 0.0005001000200040008,\n",
              "         'de,': 0.00023338000933520038,\n",
              "         'e, ': 0.0004334200173368007,\n",
              "         ', d': 0.0005334400213376009,\n",
              "         'a j': 6.668000266720011e-05,\n",
              "         ' ju': 0.00020004000800160032,\n",
              "         'jus': 3.3340001333600056e-05,\n",
              "         'ust': 3.3340001333600056e-05,\n",
              "         'tiç': 3.3340001333600056e-05,\n",
              "         'iça': 3.3340001333600056e-05,\n",
              "         'ça ': 0.00013336000533440022,\n",
              "         'a p': 0.0015336400613456024,\n",
              "         ' pa': 0.0007668200306728012,\n",
              "         'paz': 6.668000266720011e-05,\n",
              "         'az ': 3.3340001333600056e-05,\n",
              "         'z n': 3.3340001333600056e-05,\n",
              "         ' no': 0.0005001000200040008,\n",
              "         'no ': 0.0005667800226712009,\n",
              "         'o m': 0.00026672001066880045,\n",
              "         ' mu': 0.00020004000800160032,\n",
              "         'mun': 0.00010002000400080016,\n",
              "         'do;': 6.668000266720011e-05,\n",
              "         'o; ': 0.00016670000666800026,\n",
              "         '; \\n': 0.00020004000800160032,\n",
              "         ' \\nC': 0.00020004000800160032,\n",
              "         ' de': 0.003667400146696006,\n",
              "         'des': 0.000600120024004801,\n",
              "         'esc': 0.00026672001066880045,\n",
              "         'sco': 0.00013336000533440022,\n",
              "         'o e': 0.001200240048009602,\n",
              "         'esp': 0.0003334000133360005,\n",
              "         'spr': 3.3340001333600056e-05,\n",
              "         'pre': 0.00046676001867040077,\n",
              "         'rez': 3.3340001333600056e-05,\n",
              "         'ezo': 3.3340001333600056e-05,\n",
              "         'zo ': 3.3340001333600056e-05,\n",
              "         'o H': 0.00023338000933520038,\n",
              "         ' Ho': 0.00023338000933520038,\n",
              "         'Hom': 0.00023338000933520038,\n",
              "         'ome': 0.00046676001867040077,\n",
              "         'en ': 3.3340001333600056e-05,\n",
              "         'n c': 3.3340001333600056e-05,\n",
              "         'ond': 0.00023338000933520038,\n",
              "         'ndu': 3.3340001333600056e-05,\n",
              "         'duz': 6.668000266720011e-05,\n",
              "         'uzi': 6.668000266720011e-05,\n",
              "         'zir': 3.3340001333600056e-05,\n",
              "         'ira': 0.00013336000533440022,\n",
              "         'ram': 0.00010002000400080016,\n",
              "         'am ': 0.00026672001066880045,\n",
              "         'm a': 0.00046676001867040077,\n",
              "         'a a': 0.001233580049343202,\n",
              "         ' ac': 0.00040008001600320064,\n",
              "         'act': 0.00023338000933520038,\n",
              "         'cto': 0.00016670000666800026,\n",
              "         'e b': 6.668000266720011e-05,\n",
              "         ' ba': 3.3340001333600056e-05,\n",
              "         'bar': 3.3340001333600056e-05,\n",
              "         'arb': 0.00016670000666800026,\n",
              "         'rbá': 3.3340001333600056e-05,\n",
              "         'bár': 3.3340001333600056e-05,\n",
              "         'ári': 0.00023338000933520038,\n",
              "         'rie': 0.00010002000400080016,\n",
              "         'ie ': 3.3340001333600056e-05,\n",
              "         'e q': 0.00023338000933520038,\n",
              "         'e r': 0.00040008001600320064,\n",
              "         'rev': 6.668000266720011e-05,\n",
              "         'evo': 6.668000266720011e-05,\n",
              "         'vol': 0.00016670000666800026,\n",
              "         'olt': 6.668000266720011e-05,\n",
              "         'lta': 0.00013336000533440022,\n",
              "         'tam': 0.00013336000533440022,\n",
              "         'a c': 0.00046676001867040077,\n",
              "         'nsc': 0.00010002000400080016,\n",
              "         'sci': 0.00016670000666800026,\n",
              "         'ciê': 0.00010002000400080016,\n",
              "         'iên': 0.00010002000400080016,\n",
              "         'ênc': 0.0003000600120024005,\n",
              "         'nci': 0.0005667800226712009,\n",
              "         'cia': 0.0009668600386744015,\n",
              "         'a H': 3.3340001333600056e-05,\n",
              "         'ani': 0.00020004000800160032,\n",
              "         'e e': 0.0009335200373408015,\n",
              "         'o a': 0.0009335200373408015,\n",
              "         ' ad': 3.3340001333600056e-05,\n",
              "         'adv': 3.3340001333600056e-05,\n",
              "         'dve': 3.3340001333600056e-05,\n",
              "         'ven': 3.3340001333600056e-05,\n",
              "         'e u': 0.00026672001066880045,\n",
              "         ' um': 0.00046676001867040077,\n",
              "         'um ': 0.0003334000133360005,\n",
              "         'm m': 6.668000266720011e-05,\n",
              "         ' em': 0.0007334800293392012,\n",
              "         'em ': 0.0022004400880176033,\n",
              "         'm q': 0.00013336000533440022,\n",
              "         'ser': 0.000633460025338401,\n",
              "         'res': 0.0010335400413416017,\n",
              "         'es ': 0.0014669600586784024,\n",
              "         's h': 0.00016670000666800026,\n",
              "         'sej': 0.00020004000800160032,\n",
              "         'eja': 0.00020004000800160032,\n",
              "         'jam': 0.00010002000400080016,\n",
              "         'm l': 6.668000266720011e-05,\n",
              "         'liv': 0.00020004000800160032,\n",
              "         'ivr': 0.00020004000800160032,\n",
              "         'vre': 0.00020004000800160032,\n",
              "         'e f': 0.0003000600120024005,\n",
              "         'fal': 3.3340001333600056e-05,\n",
              "         'ala': 3.3340001333600056e-05,\n",
              "         'ar ': 0.0007668200306728012,\n",
              "         'r e': 0.00026672001066880045,\n",
              "         'e c': 0.0005001000200040008,\n",
              "         ' cr': 0.00013336000533440022,\n",
              "         'cre': 6.668000266720011e-05,\n",
              "         'rer': 6.668000266720011e-05,\n",
              "         'er,': 0.00010002000400080016,\n",
              "         'r, ': 0.00023338000933520038,\n",
              "         ', l': 3.3340001333600056e-05,\n",
              "         'ert': 0.00010002000400080016,\n",
              "         'rto': 6.668000266720011e-05,\n",
              "         'o t': 0.0003667400146696006,\n",
              "         ' te': 0.0009335200373408015,\n",
              "         'ter': 0.0005334400213376009,\n",
              "         'err': 0.00013336000533440022,\n",
              "         'rro': 3.3340001333600056e-05,\n",
              "         'ror': 3.3340001333600056e-05,\n",
              "         'or ': 0.0005667800226712009,\n",
              "         'a m': 0.00026672001066880045,\n",
              "         ' mi': 3.3340001333600056e-05,\n",
              "         'mis': 0.00020004000800160032,\n",
              "         'isé': 3.3340001333600056e-05,\n",
              "         'sér': 3.3340001333600056e-05,\n",
              "         'éri': 0.00013336000533440022,\n",
              "         'ria': 0.00040008001600320064,\n",
              "         'ia,': 0.00020004000800160032,\n",
              "         'a, ': 0.0009668600386744015,\n",
              "         ', f': 3.3340001333600056e-05,\n",
              "         ' fo': 0.00016670000666800026,\n",
              "         'foi': 6.668000266720011e-05,\n",
              "         'oi ': 6.668000266720011e-05,\n",
              "         'i p': 3.3340001333600056e-05,\n",
              "         ' pr': 0.0013669400546776022,\n",
              "         'pro': 0.0009335200373408015,\n",
              "         'roc': 0.0003000600120024005,\n",
              "         'ocl': 0.00013336000533440022,\n",
              "         'lam': 0.00013336000533440022,\n",
              "         'ama': 0.00013336000533440022,\n",
              "         'mad': 6.668000266720011e-05,\n",
              "         'ado': 0.000600120024004801,\n",
              "         'o c': 0.0003667400146696006,\n",
              "         'com': 0.0008001600320064013,\n",
              "         'omo': 0.0003334000133360005,\n",
              "         'mo ': 0.0003334000133360005,\n",
              "         ' ma': 0.0003334000133360005,\n",
              "         'mai': 0.00013336000533440022,\n",
              "         's a': 0.0005667800226712009,\n",
              "         ' al': 0.0003000600120024005,\n",
              "         'alt': 0.00010002000400080016,\n",
              "         'ta ': 0.00023338000933520038,\n",
              "         'a i': 0.0003334000133360005,\n",
              "         'ins': 0.00010002000400080016,\n",
              "         'nsp': 3.3340001333600056e-05,\n",
              "         'spi': 3.3340001333600056e-05,\n",
              "         'pir': 3.3340001333600056e-05,\n",
              "         'em;': 3.3340001333600056e-05,\n",
              "         'm; ': 3.3340001333600056e-05,\n",
              "         'e é': 6.668000266720011e-05,\n",
              "         ' é ': 0.00020004000800160032,\n",
              "         'é e': 6.668000266720011e-05,\n",
              "         ' es': 0.0007001400280056011,\n",
              "         'ess': 0.001333600053344002,\n",
              "         'sse': 0.00026672001066880045,\n",
              "         'sen': 0.0003334000133360005,\n",
              "         'enc': 0.00016670000666800026,\n",
              "         'ial': 0.0003000600120024005,\n",
              "         'l a': 3.3340001333600056e-05,\n",
              "         'rot': 0.00026672001066880045,\n",
              "         'ote': 0.00026672001066880045,\n",
              "         'teç': 6.668000266720011e-05,\n",
              "         'eçã': 6.668000266720011e-05,\n",
              "         ' at': 0.00020004000800160032,\n",
              "         'atr': 0.00010002000400080016,\n",
              "         'tra': 0.0008001600320064013,\n",
              "         'rav': 0.00020004000800160032,\n",
              "         'avé': 6.668000266720011e-05,\n",
              "         'vés': 6.668000266720011e-05,\n",
              "         'és ': 6.668000266720011e-05,\n",
              "         'm r': 0.00010002000400080016,\n",
              "         'reg': 0.00013336000533440022,\n",
              "         'egi': 6.668000266720011e-05,\n",
              "         'gim': 3.3340001333600056e-05,\n",
              "         'me ': 0.00010002000400080016,\n",
              "         'to,': 0.00023338000933520038,\n",
              "         'o, ': 0.0011002200440088017,\n",
              "         ', p': 0.00040008001600320064,\n",
              "         'par': 0.0003667400146696006,\n",
              "         'ra ': 0.0007334800293392012,\n",
              "         'a q': 0.00020004000800160032,\n",
              "         'm n': 0.00013336000533440022,\n",
              "         ' nã': 0.00023338000933520038,\n",
              "         'não': 0.00023338000933520038,\n",
              "         'o s': 0.0005334400213376009,\n",
              "         'ja ': 0.00013336000533440022,\n",
              "         'omp': 0.00020004000800160032,\n",
              "         'mpe': 6.668000266720011e-05,\n",
              "         'pel': 0.0003667400146696006,\n",
              "         'eli': 0.0003334000133360005,\n",
              "         'lid': 0.0003334000133360005,\n",
              "         'ido': 0.0003000600120024005,\n",
              "         'do,': 0.00010002000400080016,\n",
              "         ', e': 0.0003334000133360005,\n",
              "         'm s': 0.00023338000933520038,\n",
              "         ' su': 0.0009001800360072014,\n",
              "         'sup': 6.668000266720011e-05,\n",
              "         'upr': 3.3340001333600056e-05,\n",
              "         'rem': 0.00013336000533440022,\n",
              "         'emo': 3.3340001333600056e-05,\n",
              "         'ecu': 0.00013336000533440022,\n",
              "         'cur': 0.00020004000800160032,\n",
              "         'urs': 0.00013336000533440022,\n",
              "         'rso': 0.00020004000800160032,\n",
              "         'so,': 0.00013336000533440022,\n",
              "         ', à': 0.00016670000666800026,\n",
              "         ' à ': 0.0007334800293392012,\n",
              "         'à r': 3.3340001333600056e-05,\n",
              "         'ont': 0.00040008001600320064,\n",
              "         'ntr': 0.0005667800226712009,\n",
              "         ' ti': 3.3340001333600056e-05,\n",
              "         'tir': 6.668000266720011e-05,\n",
              "         'nia': 0.00010002000400080016,\n",
              "         'a o': 0.00023338000933520038,\n",
              "         ' op': 0.00013336000533440022,\n",
              "         'opr': 0.00010002000400080016,\n",
              "         'ssã': 0.00010002000400080016,\n",
              "         'são': 0.00023338000933520038,\n",
              "         'ão;': 0.00010002000400080016,\n",
              "         'l e': 0.00023338000933520038,\n",
              "         ' en': 0.0003667400146696006,\n",
              "         'nco': 6.668000266720011e-05,\n",
              "         'cor': 0.00013336000533440022,\n",
              "         'ora': 6.668000266720011e-05,\n",
              "         'raj': 3.3340001333600056e-05,\n",
              "         'aja': 3.3340001333600056e-05,\n",
              "         'jar': 3.3340001333600056e-05,\n",
              "         'r o': 0.00026672001066880045,\n",
              "         'ese': 0.0003000600120024005,\n",
              "         'env': 0.00010002000400080016,\n",
              "         'nvo': 0.00016670000666800026,\n",
              "         'olv': 0.00013336000533440022,\n",
              "         'lvi': 0.00010002000400080016,\n",
              "         'vim': 6.668000266720011e-05,\n",
              "         'rel': 0.00023338000933520038,\n",
              "         'ela': 0.00026672001066880045,\n",
              "         'laç': 6.668000266720011e-05,\n",
              "         'açõ': 0.0003667400146696006,\n",
              "         'çõe': 0.000600120024004801,\n",
              "         'ões': 0.0007668200306728012,\n",
              "         ...})"
            ]
          },
          "metadata": {},
          "execution_count": 41
        }
      ]
    },
    {
      "cell_type": "markdown",
      "source": [
        "To identify the language of the sentence, we need to do some correlation. To do that, we will be checking the similary between the sentence and the others from the dictionary using cosine:"
      ],
      "metadata": {
        "id": "Mgg6VlW0L7HC"
      }
    },
    {
      "cell_type": "code",
      "source": [
        "import math\n",
        "\n",
        "# Function to calculate the similarity between sentences\n",
        "# x, y: dictionaries with the items and values to each of them\n",
        "def cosine(x, y):\n",
        "    num = 0\n",
        "    for k in x:\n",
        "      if k in y:\n",
        "        num += x[k]*y[k]\n",
        "    \n",
        "    den = (math.sqrt(sum([x[k]**2 for k in x])) * math.sqrt(sum([y[k]**2 for k in y])))\n",
        "    return (num/den)"
      ],
      "metadata": {
        "id": "tOrtirCSMLgj"
      },
      "execution_count": 48,
      "outputs": []
    },
    {
      "cell_type": "markdown",
      "source": [
        "Now we can construct the function to identify the language:"
      ],
      "metadata": {
        "id": "Mk3GbX1qNDZb"
      }
    },
    {
      "cell_type": "code",
      "source": [
        "# Function to detect the language of a sentence\n",
        "# sentence: the text whose language we want to identify\n",
        "def identify_language(sentence):\n",
        "    text_model = prob_model(sentence, range(1,4))\n",
        "    language = \"\"\n",
        "    max_value = 0\n",
        "    for m in models:\n",
        "        p = cosine(models[m], text_model)\n",
        "        # The following line is just for demonstration, and can be deleted\n",
        "        print(f'Language: {m}; Percentage: {p*100} %')\n",
        "        if p > max_value:\n",
        "            max_value = p\n",
        "            language = m\n",
        "    return language"
      ],
      "metadata": {
        "id": "Ew1SKrvjFLu_"
      },
      "execution_count": 51,
      "outputs": []
    },
    {
      "cell_type": "markdown",
      "source": [
        "\n",
        "\n",
        "---\n",
        "\n",
        "##Testing with all the four sentences"
      ],
      "metadata": {
        "id": "_ob-uZOCN9Hx"
      }
    },
    {
      "cell_type": "markdown",
      "source": [
        "###Sentence 01:"
      ],
      "metadata": {
        "id": "lyynUpMfOEAQ"
      }
    },
    {
      "cell_type": "code",
      "source": [
        "print(\"\\nLanguage detected: \" + identify_language(text01))"
      ],
      "metadata": {
        "colab": {
          "base_uri": "https://localhost:8080/"
        },
        "id": "X4i4nxj2FZLm",
        "outputId": "72dfbe30-ad1b-43f0-a009-dbbf6ccfcee7"
      },
      "execution_count": 54,
      "outputs": [
        {
          "output_type": "stream",
          "name": "stdout",
          "text": [
            "Language: japanese; Percentage: 3.693697534431602 %\n",
            "Language: russian; Percentage: 24.95929807681268 %\n",
            "Language: portuguese; Percentage: 70.77029880219939 %\n",
            "Language: english; Percentage: 71.39879397187347 %\n",
            "Language: german; Percentage: 78.1184703163192 %\n",
            "Language: dutch; Percentage: 77.59417164271792 %\n",
            "Language: french; Percentage: 74.01572887076772 %\n",
            "Language: italian; Percentage: 69.2604790031414 %\n",
            "Language: spanish; Percentage: 72.60203298137172 %\n",
            "Language: norwegian; Percentage: 81.50264577468769 %\n",
            "Language: irish; Percentage: 61.9619491025024 %\n",
            "Language: latin; Percentage: 67.85565467503388 %\n",
            "Language: korean; Percentage: 43.051244924355416 %\n",
            "\n",
            "Language detected: norwegian\n"
          ]
        }
      ]
    },
    {
      "cell_type": "markdown",
      "source": [
        "###Sentence 02:"
      ],
      "metadata": {
        "id": "519SOPGoOHiA"
      }
    },
    {
      "cell_type": "code",
      "source": [
        "print(\"\\nLanguage detected: \" + identify_language(text02))"
      ],
      "metadata": {
        "colab": {
          "base_uri": "https://localhost:8080/"
        },
        "id": "w6q5QNnZOHFQ",
        "outputId": "8c0cd4d9-2dc6-4a9d-a4a1-0f20cc643cd8"
      },
      "execution_count": 55,
      "outputs": [
        {
          "output_type": "stream",
          "name": "stdout",
          "text": [
            "Language: japanese; Percentage: 2.980170286759991 %\n",
            "Language: russian; Percentage: 19.21786582109228 %\n",
            "Language: portuguese; Percentage: 60.45182843322863 %\n",
            "Language: english; Percentage: 61.97970837168961 %\n",
            "Language: german; Percentage: 55.654497266410644 %\n",
            "Language: dutch; Percentage: 52.806334877100205 %\n",
            "Language: french; Percentage: 55.64330368995496 %\n",
            "Language: italian; Percentage: 60.042996948468854 %\n",
            "Language: spanish; Percentage: 60.31927815132543 %\n",
            "Language: norwegian; Percentage: 52.44807916282777 %\n",
            "Language: irish; Percentage: 73.68067703233156 %\n",
            "Language: latin; Percentage: 56.48683708682527 %\n",
            "Language: korean; Percentage: 33.878454127775434 %\n",
            "\n",
            "Language detected: irish\n"
          ]
        }
      ]
    },
    {
      "cell_type": "markdown",
      "source": [
        "###Sentence 03:"
      ],
      "metadata": {
        "id": "0vezBiJmONSB"
      }
    },
    {
      "cell_type": "code",
      "source": [
        "print(\"\\nLanguage detected: \" + identify_language(text03))"
      ],
      "metadata": {
        "colab": {
          "base_uri": "https://localhost:8080/"
        },
        "id": "QoNN2gKNOO0G",
        "outputId": "992ea696-4966-4a6c-8cda-47bd840c5c4a"
      },
      "execution_count": 56,
      "outputs": [
        {
          "output_type": "stream",
          "name": "stdout",
          "text": [
            "Language: japanese; Percentage: 3.653458835080816 %\n",
            "Language: russian; Percentage: 23.59676583958191 %\n",
            "Language: portuguese; Percentage: 69.00013155306915 %\n",
            "Language: english; Percentage: 67.44416991993138 %\n",
            "Language: german; Percentage: 63.482685092380706 %\n",
            "Language: dutch; Percentage: 62.694709159313454 %\n",
            "Language: french; Percentage: 67.78523081736923 %\n",
            "Language: italian; Percentage: 65.40315740899152 %\n",
            "Language: spanish; Percentage: 68.78830532074939 %\n",
            "Language: norwegian; Percentage: 63.61803365606509 %\n",
            "Language: irish; Percentage: 68.04313467188989 %\n",
            "Language: latin; Percentage: 70.50050727816941 %\n",
            "Language: korean; Percentage: 41.52002170333375 %\n",
            "\n",
            "Language detected: latin\n"
          ]
        }
      ]
    },
    {
      "cell_type": "markdown",
      "source": [
        "###Sentence 04:"
      ],
      "metadata": {
        "id": "Q7UTi6A-OQ_7"
      }
    },
    {
      "cell_type": "code",
      "source": [
        "print(\"\\nLanguage detected: \" + identify_language(text04))"
      ],
      "metadata": {
        "colab": {
          "base_uri": "https://localhost:8080/"
        },
        "id": "I6XWWyQKOS9w",
        "outputId": "35ddf138-8d80-4188-d086-86b5faf10c4c"
      },
      "execution_count": 57,
      "outputs": [
        {
          "output_type": "stream",
          "name": "stdout",
          "text": [
            "Language: japanese; Percentage: 3.655237199654567 %\n",
            "Language: russian; Percentage: 24.944261865882964 %\n",
            "Language: portuguese; Percentage: 69.55882540641805 %\n",
            "Language: english; Percentage: 69.0692445319997 %\n",
            "Language: german; Percentage: 67.48802052200614 %\n",
            "Language: dutch; Percentage: 67.61686862184517 %\n",
            "Language: french; Percentage: 71.02131050240705 %\n",
            "Language: italian; Percentage: 64.69749475033395 %\n",
            "Language: spanish; Percentage: 68.8173708285007 %\n",
            "Language: norwegian; Percentage: 73.28569770657492 %\n",
            "Language: irish; Percentage: 63.71484956419751 %\n",
            "Language: latin; Percentage: 69.59998567805692 %\n",
            "Language: korean; Percentage: 42.962884680349575 %\n",
            "\n",
            "Language detected: norwegian\n"
          ]
        }
      ]
    }
  ]
}