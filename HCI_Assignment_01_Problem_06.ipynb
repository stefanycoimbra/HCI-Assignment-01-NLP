{
  "nbformat": 4,
  "nbformat_minor": 0,
  "metadata": {
    "colab": {
      "provenance": [],
      "authorship_tag": "ABX9TyML0Aixggj7LuM5YSTQn9Ud",
      "include_colab_link": true
    },
    "kernelspec": {
      "name": "python3",
      "display_name": "Python 3"
    },
    "language_info": {
      "name": "python"
    }
  },
  "cells": [
    {
      "cell_type": "markdown",
      "metadata": {
        "id": "view-in-github",
        "colab_type": "text"
      },
      "source": [
        "<a href=\"https://colab.research.google.com/github/stefanycoimbra/HCI-Assignment-01-NLP/blob/main/HCI_Assignment_01_Problem_06.ipynb\" target=\"_parent\"><img src=\"https://colab.research.google.com/assets/colab-badge.svg\" alt=\"Open In Colab\"/></a>"
      ]
    },
    {
      "cell_type": "markdown",
      "source": [
        "##Name : Stéfany Coura Coimbra\n",
        "##Student ID : B202300194\n",
        "\n",
        "##Python Assignment of Human-Computer Interaction : Part 06"
      ],
      "metadata": {
        "id": "067BNSmqHW62"
      }
    },
    {
      "cell_type": "markdown",
      "source": [
        "#### **Problem 6:** Which problems do adaptive and predictive keyboards address? Explain how touch information and language information can be combined for keyboard adaptation. Explain decoding of touch sequences with token passing and beam pruning."
      ],
      "metadata": {
        "id": "Ki41_dMmHhyG"
      }
    },
    {
      "cell_type": "markdown",
      "source": [
        "\n",
        "\n",
        "---\n",
        "\n",
        "\n",
        "##Adaptive and predictive keyboards"
      ],
      "metadata": {
        "id": "71xMcerUKNxT"
      }
    },
    {
      "cell_type": "markdown",
      "source": [
        "Adaptive and keyboards can address a lot problems related to user experience. They can reduce the speed of user's writing, improve the accuracy by reducing significantly the errors from typing and also, by collecting and predicting the next word and/or sentence saves the user's time and produce a higher experience in many situations, such as body movement and personalization to their finger's or hand's patterns."
      ],
      "metadata": {
        "id": "QZjt6yubHq-0"
      }
    },
    {
      "cell_type": "markdown",
      "source": [
        "To do that, it's extremely important to collect and keeps a touching information history to do the prediction and to build the best layout. The language information is also a crucial data, because depending of the language, some letters should be close to each other and in other languages not, based on the construction of each one and which one is being used at the moment by the user."
      ],
      "metadata": {
        "id": "0RY13kFjJZ53"
      }
    },
    {
      "cell_type": "markdown",
      "source": [
        "\n",
        "\n",
        "---\n",
        "\n",
        "\n",
        "##Token passing algorithm"
      ],
      "metadata": {
        "id": "ZbwRdHs4KTiL"
      }
    },
    {
      "cell_type": "markdown",
      "source": [
        "This algorithm considers the percentage of every touch information in a partial sequence. To build this algorithm, the sequence of touching matters and depending of the sequence, te algorithm can consider different ways to form the word of can find a letter that doesn't make sense to the language, for example."
      ],
      "metadata": {
        "id": "u3VoIT-kKbdc"
      }
    },
    {
      "cell_type": "markdown",
      "source": [
        "\n",
        "\n",
        "---\n",
        "\n",
        "\n",
        "##Beam pruning algorithm"
      ],
      "metadata": {
        "id": "4gqiYkS4KXo-"
      }
    },
    {
      "cell_type": "markdown",
      "source": [
        "This algorithm only selects the prediction from a range of probabilities, but discards some of them, being computationally cheaper than the token-passing algorthm. That way, only some of the probabilities are propagated to build the solution until the final answer, but here the programmer needs to limit the range of probabilities or the rule to some of them be discarded."
      ],
      "metadata": {
        "id": "0l1QNBUxKxIr"
      }
    }
  ]
}